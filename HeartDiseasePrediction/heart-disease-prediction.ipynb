{
 "cells": [
  {
   "cell_type": "code",
   "execution_count": 1,
   "id": "4dd1fccc",
   "metadata": {},
   "outputs": [
    {
     "name": "stdout",
     "output_type": "stream",
     "text": [
      "['.ipynb_checkpoints', 'Data', 'heart-disease-prediction.ipynb']\n"
     ]
    }
   ],
   "source": [
    "import numpy as np\n",
    "import pandas as pd\n",
    "import matplotlib.pyplot as plt\n",
    "import seaborn as sns\n",
    "\n",
    "%matplotlib inline\n",
    "\n",
    "import os\n",
    "print(os.listdir())\n",
    "\n",
    "import warnings\n",
    "warnings.filterwarnings('ignore')"
   ]
  },
  {
   "cell_type": "code",
   "execution_count": 2,
   "id": "3aa4d27e",
   "metadata": {},
   "outputs": [],
   "source": [
    "dataset = pd.read_csv(\"Data/heart.csv\")"
   ]
  },
  {
   "cell_type": "code",
   "execution_count": 3,
   "id": "498db747",
   "metadata": {},
   "outputs": [
    {
     "data": {
      "text/plain": [
       "pandas.core.frame.DataFrame"
      ]
     },
     "execution_count": 3,
     "metadata": {},
     "output_type": "execute_result"
    }
   ],
   "source": [
    "type(dataset)"
   ]
  },
  {
   "cell_type": "code",
   "execution_count": 4,
   "id": "282449d6",
   "metadata": {},
   "outputs": [
    {
     "data": {
      "text/html": [
       "<div>\n",
       "<style scoped>\n",
       "    .dataframe tbody tr th:only-of-type {\n",
       "        vertical-align: middle;\n",
       "    }\n",
       "\n",
       "    .dataframe tbody tr th {\n",
       "        vertical-align: top;\n",
       "    }\n",
       "\n",
       "    .dataframe thead th {\n",
       "        text-align: right;\n",
       "    }\n",
       "</style>\n",
       "<table border=\"1\" class=\"dataframe\">\n",
       "  <thead>\n",
       "    <tr style=\"text-align: right;\">\n",
       "      <th></th>\n",
       "      <th>age</th>\n",
       "      <th>sex</th>\n",
       "      <th>cp</th>\n",
       "      <th>trestbps</th>\n",
       "      <th>chol</th>\n",
       "      <th>fbs</th>\n",
       "      <th>restecg</th>\n",
       "      <th>thalach</th>\n",
       "      <th>exang</th>\n",
       "      <th>oldpeak</th>\n",
       "      <th>slope</th>\n",
       "      <th>ca</th>\n",
       "      <th>thal</th>\n",
       "      <th>target</th>\n",
       "    </tr>\n",
       "  </thead>\n",
       "  <tbody>\n",
       "    <tr>\n",
       "      <th>0</th>\n",
       "      <td>63</td>\n",
       "      <td>1</td>\n",
       "      <td>3</td>\n",
       "      <td>145</td>\n",
       "      <td>233</td>\n",
       "      <td>1</td>\n",
       "      <td>0</td>\n",
       "      <td>150</td>\n",
       "      <td>0</td>\n",
       "      <td>2.3</td>\n",
       "      <td>0</td>\n",
       "      <td>0</td>\n",
       "      <td>1</td>\n",
       "      <td>1</td>\n",
       "    </tr>\n",
       "    <tr>\n",
       "      <th>1</th>\n",
       "      <td>37</td>\n",
       "      <td>1</td>\n",
       "      <td>2</td>\n",
       "      <td>130</td>\n",
       "      <td>250</td>\n",
       "      <td>0</td>\n",
       "      <td>1</td>\n",
       "      <td>187</td>\n",
       "      <td>0</td>\n",
       "      <td>3.5</td>\n",
       "      <td>0</td>\n",
       "      <td>0</td>\n",
       "      <td>2</td>\n",
       "      <td>1</td>\n",
       "    </tr>\n",
       "    <tr>\n",
       "      <th>2</th>\n",
       "      <td>41</td>\n",
       "      <td>0</td>\n",
       "      <td>1</td>\n",
       "      <td>130</td>\n",
       "      <td>204</td>\n",
       "      <td>0</td>\n",
       "      <td>0</td>\n",
       "      <td>172</td>\n",
       "      <td>0</td>\n",
       "      <td>1.4</td>\n",
       "      <td>2</td>\n",
       "      <td>0</td>\n",
       "      <td>2</td>\n",
       "      <td>1</td>\n",
       "    </tr>\n",
       "    <tr>\n",
       "      <th>3</th>\n",
       "      <td>56</td>\n",
       "      <td>1</td>\n",
       "      <td>1</td>\n",
       "      <td>120</td>\n",
       "      <td>236</td>\n",
       "      <td>0</td>\n",
       "      <td>1</td>\n",
       "      <td>178</td>\n",
       "      <td>0</td>\n",
       "      <td>0.8</td>\n",
       "      <td>2</td>\n",
       "      <td>0</td>\n",
       "      <td>2</td>\n",
       "      <td>1</td>\n",
       "    </tr>\n",
       "    <tr>\n",
       "      <th>4</th>\n",
       "      <td>57</td>\n",
       "      <td>0</td>\n",
       "      <td>0</td>\n",
       "      <td>120</td>\n",
       "      <td>354</td>\n",
       "      <td>0</td>\n",
       "      <td>1</td>\n",
       "      <td>163</td>\n",
       "      <td>1</td>\n",
       "      <td>0.6</td>\n",
       "      <td>2</td>\n",
       "      <td>0</td>\n",
       "      <td>2</td>\n",
       "      <td>1</td>\n",
       "    </tr>\n",
       "  </tbody>\n",
       "</table>\n",
       "</div>"
      ],
      "text/plain": [
       "   age  sex  cp  trestbps  chol  fbs  restecg  thalach  exang  oldpeak  slope  \\\n",
       "0   63    1   3       145   233    1        0      150      0      2.3      0   \n",
       "1   37    1   2       130   250    0        1      187      0      3.5      0   \n",
       "2   41    0   1       130   204    0        0      172      0      1.4      2   \n",
       "3   56    1   1       120   236    0        1      178      0      0.8      2   \n",
       "4   57    0   0       120   354    0        1      163      1      0.6      2   \n",
       "\n",
       "   ca  thal  target  \n",
       "0   0     1       1  \n",
       "1   0     2       1  \n",
       "2   0     2       1  \n",
       "3   0     2       1  \n",
       "4   0     2       1  "
      ]
     },
     "execution_count": 4,
     "metadata": {},
     "output_type": "execute_result"
    }
   ],
   "source": [
    "dataset.head(5)"
   ]
  },
  {
   "cell_type": "code",
   "execution_count": 5,
   "id": "ec6c4f88",
   "metadata": {},
   "outputs": [
    {
     "data": {
      "text/html": [
       "<div>\n",
       "<style scoped>\n",
       "    .dataframe tbody tr th:only-of-type {\n",
       "        vertical-align: middle;\n",
       "    }\n",
       "\n",
       "    .dataframe tbody tr th {\n",
       "        vertical-align: top;\n",
       "    }\n",
       "\n",
       "    .dataframe thead th {\n",
       "        text-align: right;\n",
       "    }\n",
       "</style>\n",
       "<table border=\"1\" class=\"dataframe\">\n",
       "  <thead>\n",
       "    <tr style=\"text-align: right;\">\n",
       "      <th></th>\n",
       "      <th>age</th>\n",
       "      <th>sex</th>\n",
       "      <th>cp</th>\n",
       "      <th>trestbps</th>\n",
       "      <th>chol</th>\n",
       "      <th>fbs</th>\n",
       "      <th>restecg</th>\n",
       "      <th>thalach</th>\n",
       "      <th>exang</th>\n",
       "      <th>oldpeak</th>\n",
       "      <th>slope</th>\n",
       "      <th>ca</th>\n",
       "      <th>thal</th>\n",
       "      <th>target</th>\n",
       "    </tr>\n",
       "  </thead>\n",
       "  <tbody>\n",
       "    <tr>\n",
       "      <th>84</th>\n",
       "      <td>42</td>\n",
       "      <td>0</td>\n",
       "      <td>0</td>\n",
       "      <td>102</td>\n",
       "      <td>265</td>\n",
       "      <td>0</td>\n",
       "      <td>0</td>\n",
       "      <td>122</td>\n",
       "      <td>0</td>\n",
       "      <td>0.6</td>\n",
       "      <td>1</td>\n",
       "      <td>0</td>\n",
       "      <td>2</td>\n",
       "      <td>1</td>\n",
       "    </tr>\n",
       "    <tr>\n",
       "      <th>258</th>\n",
       "      <td>62</td>\n",
       "      <td>0</td>\n",
       "      <td>0</td>\n",
       "      <td>150</td>\n",
       "      <td>244</td>\n",
       "      <td>0</td>\n",
       "      <td>1</td>\n",
       "      <td>154</td>\n",
       "      <td>1</td>\n",
       "      <td>1.4</td>\n",
       "      <td>1</td>\n",
       "      <td>0</td>\n",
       "      <td>2</td>\n",
       "      <td>0</td>\n",
       "    </tr>\n",
       "    <tr>\n",
       "      <th>296</th>\n",
       "      <td>63</td>\n",
       "      <td>0</td>\n",
       "      <td>0</td>\n",
       "      <td>124</td>\n",
       "      <td>197</td>\n",
       "      <td>0</td>\n",
       "      <td>1</td>\n",
       "      <td>136</td>\n",
       "      <td>1</td>\n",
       "      <td>0.0</td>\n",
       "      <td>1</td>\n",
       "      <td>0</td>\n",
       "      <td>2</td>\n",
       "      <td>0</td>\n",
       "    </tr>\n",
       "    <tr>\n",
       "      <th>6</th>\n",
       "      <td>56</td>\n",
       "      <td>0</td>\n",
       "      <td>1</td>\n",
       "      <td>140</td>\n",
       "      <td>294</td>\n",
       "      <td>0</td>\n",
       "      <td>0</td>\n",
       "      <td>153</td>\n",
       "      <td>0</td>\n",
       "      <td>1.3</td>\n",
       "      <td>1</td>\n",
       "      <td>0</td>\n",
       "      <td>2</td>\n",
       "      <td>1</td>\n",
       "    </tr>\n",
       "    <tr>\n",
       "      <th>243</th>\n",
       "      <td>57</td>\n",
       "      <td>1</td>\n",
       "      <td>0</td>\n",
       "      <td>152</td>\n",
       "      <td>274</td>\n",
       "      <td>0</td>\n",
       "      <td>1</td>\n",
       "      <td>88</td>\n",
       "      <td>1</td>\n",
       "      <td>1.2</td>\n",
       "      <td>1</td>\n",
       "      <td>1</td>\n",
       "      <td>3</td>\n",
       "      <td>0</td>\n",
       "    </tr>\n",
       "  </tbody>\n",
       "</table>\n",
       "</div>"
      ],
      "text/plain": [
       "     age  sex  cp  trestbps  chol  fbs  restecg  thalach  exang  oldpeak  \\\n",
       "84    42    0   0       102   265    0        0      122      0      0.6   \n",
       "258   62    0   0       150   244    0        1      154      1      1.4   \n",
       "296   63    0   0       124   197    0        1      136      1      0.0   \n",
       "6     56    0   1       140   294    0        0      153      0      1.3   \n",
       "243   57    1   0       152   274    0        1       88      1      1.2   \n",
       "\n",
       "     slope  ca  thal  target  \n",
       "84       1   0     2       1  \n",
       "258      1   0     2       0  \n",
       "296      1   0     2       0  \n",
       "6        1   0     2       1  \n",
       "243      1   1     3       0  "
      ]
     },
     "execution_count": 5,
     "metadata": {},
     "output_type": "execute_result"
    }
   ],
   "source": [
    "dataset.sample(5)"
   ]
  },
  {
   "cell_type": "code",
   "execution_count": 6,
   "id": "b0cc7db5",
   "metadata": {},
   "outputs": [
    {
     "name": "stdout",
     "output_type": "stream",
     "text": [
      "<class 'pandas.core.frame.DataFrame'>\n",
      "RangeIndex: 303 entries, 0 to 302\n",
      "Data columns (total 14 columns):\n",
      " #   Column    Non-Null Count  Dtype  \n",
      "---  ------    --------------  -----  \n",
      " 0   age       303 non-null    int64  \n",
      " 1   sex       303 non-null    int64  \n",
      " 2   cp        303 non-null    int64  \n",
      " 3   trestbps  303 non-null    int64  \n",
      " 4   chol      303 non-null    int64  \n",
      " 5   fbs       303 non-null    int64  \n",
      " 6   restecg   303 non-null    int64  \n",
      " 7   thalach   303 non-null    int64  \n",
      " 8   exang     303 non-null    int64  \n",
      " 9   oldpeak   303 non-null    float64\n",
      " 10  slope     303 non-null    int64  \n",
      " 11  ca        303 non-null    int64  \n",
      " 12  thal      303 non-null    int64  \n",
      " 13  target    303 non-null    int64  \n",
      "dtypes: float64(1), int64(13)\n",
      "memory usage: 33.3 KB\n"
     ]
    }
   ],
   "source": [
    "dataset.info()\n"
   ]
  },
  {
   "cell_type": "code",
   "execution_count": 7,
   "id": "cb8c87f3",
   "metadata": {},
   "outputs": [
    {
     "data": {
      "text/html": [
       "<div>\n",
       "<style scoped>\n",
       "    .dataframe tbody tr th:only-of-type {\n",
       "        vertical-align: middle;\n",
       "    }\n",
       "\n",
       "    .dataframe tbody tr th {\n",
       "        vertical-align: top;\n",
       "    }\n",
       "\n",
       "    .dataframe thead th {\n",
       "        text-align: right;\n",
       "    }\n",
       "</style>\n",
       "<table border=\"1\" class=\"dataframe\">\n",
       "  <thead>\n",
       "    <tr style=\"text-align: right;\">\n",
       "      <th></th>\n",
       "      <th>age</th>\n",
       "      <th>sex</th>\n",
       "      <th>cp</th>\n",
       "      <th>trestbps</th>\n",
       "      <th>chol</th>\n",
       "      <th>fbs</th>\n",
       "      <th>restecg</th>\n",
       "      <th>thalach</th>\n",
       "      <th>exang</th>\n",
       "      <th>oldpeak</th>\n",
       "      <th>slope</th>\n",
       "      <th>ca</th>\n",
       "      <th>thal</th>\n",
       "      <th>target</th>\n",
       "    </tr>\n",
       "  </thead>\n",
       "  <tbody>\n",
       "    <tr>\n",
       "      <th>count</th>\n",
       "      <td>303.000000</td>\n",
       "      <td>303.000000</td>\n",
       "      <td>303.000000</td>\n",
       "      <td>303.000000</td>\n",
       "      <td>303.000000</td>\n",
       "      <td>303.000000</td>\n",
       "      <td>303.000000</td>\n",
       "      <td>303.000000</td>\n",
       "      <td>303.000000</td>\n",
       "      <td>303.000000</td>\n",
       "      <td>303.000000</td>\n",
       "      <td>303.000000</td>\n",
       "      <td>303.000000</td>\n",
       "      <td>303.000000</td>\n",
       "    </tr>\n",
       "    <tr>\n",
       "      <th>mean</th>\n",
       "      <td>54.366337</td>\n",
       "      <td>0.683168</td>\n",
       "      <td>0.966997</td>\n",
       "      <td>131.623762</td>\n",
       "      <td>246.264026</td>\n",
       "      <td>0.148515</td>\n",
       "      <td>0.528053</td>\n",
       "      <td>149.646865</td>\n",
       "      <td>0.326733</td>\n",
       "      <td>1.039604</td>\n",
       "      <td>1.399340</td>\n",
       "      <td>0.729373</td>\n",
       "      <td>2.313531</td>\n",
       "      <td>0.544554</td>\n",
       "    </tr>\n",
       "    <tr>\n",
       "      <th>std</th>\n",
       "      <td>9.082101</td>\n",
       "      <td>0.466011</td>\n",
       "      <td>1.032052</td>\n",
       "      <td>17.538143</td>\n",
       "      <td>51.830751</td>\n",
       "      <td>0.356198</td>\n",
       "      <td>0.525860</td>\n",
       "      <td>22.905161</td>\n",
       "      <td>0.469794</td>\n",
       "      <td>1.161075</td>\n",
       "      <td>0.616226</td>\n",
       "      <td>1.022606</td>\n",
       "      <td>0.612277</td>\n",
       "      <td>0.498835</td>\n",
       "    </tr>\n",
       "    <tr>\n",
       "      <th>min</th>\n",
       "      <td>29.000000</td>\n",
       "      <td>0.000000</td>\n",
       "      <td>0.000000</td>\n",
       "      <td>94.000000</td>\n",
       "      <td>126.000000</td>\n",
       "      <td>0.000000</td>\n",
       "      <td>0.000000</td>\n",
       "      <td>71.000000</td>\n",
       "      <td>0.000000</td>\n",
       "      <td>0.000000</td>\n",
       "      <td>0.000000</td>\n",
       "      <td>0.000000</td>\n",
       "      <td>0.000000</td>\n",
       "      <td>0.000000</td>\n",
       "    </tr>\n",
       "    <tr>\n",
       "      <th>25%</th>\n",
       "      <td>47.500000</td>\n",
       "      <td>0.000000</td>\n",
       "      <td>0.000000</td>\n",
       "      <td>120.000000</td>\n",
       "      <td>211.000000</td>\n",
       "      <td>0.000000</td>\n",
       "      <td>0.000000</td>\n",
       "      <td>133.500000</td>\n",
       "      <td>0.000000</td>\n",
       "      <td>0.000000</td>\n",
       "      <td>1.000000</td>\n",
       "      <td>0.000000</td>\n",
       "      <td>2.000000</td>\n",
       "      <td>0.000000</td>\n",
       "    </tr>\n",
       "    <tr>\n",
       "      <th>50%</th>\n",
       "      <td>55.000000</td>\n",
       "      <td>1.000000</td>\n",
       "      <td>1.000000</td>\n",
       "      <td>130.000000</td>\n",
       "      <td>240.000000</td>\n",
       "      <td>0.000000</td>\n",
       "      <td>1.000000</td>\n",
       "      <td>153.000000</td>\n",
       "      <td>0.000000</td>\n",
       "      <td>0.800000</td>\n",
       "      <td>1.000000</td>\n",
       "      <td>0.000000</td>\n",
       "      <td>2.000000</td>\n",
       "      <td>1.000000</td>\n",
       "    </tr>\n",
       "    <tr>\n",
       "      <th>75%</th>\n",
       "      <td>61.000000</td>\n",
       "      <td>1.000000</td>\n",
       "      <td>2.000000</td>\n",
       "      <td>140.000000</td>\n",
       "      <td>274.500000</td>\n",
       "      <td>0.000000</td>\n",
       "      <td>1.000000</td>\n",
       "      <td>166.000000</td>\n",
       "      <td>1.000000</td>\n",
       "      <td>1.600000</td>\n",
       "      <td>2.000000</td>\n",
       "      <td>1.000000</td>\n",
       "      <td>3.000000</td>\n",
       "      <td>1.000000</td>\n",
       "    </tr>\n",
       "    <tr>\n",
       "      <th>max</th>\n",
       "      <td>77.000000</td>\n",
       "      <td>1.000000</td>\n",
       "      <td>3.000000</td>\n",
       "      <td>200.000000</td>\n",
       "      <td>564.000000</td>\n",
       "      <td>1.000000</td>\n",
       "      <td>2.000000</td>\n",
       "      <td>202.000000</td>\n",
       "      <td>1.000000</td>\n",
       "      <td>6.200000</td>\n",
       "      <td>2.000000</td>\n",
       "      <td>4.000000</td>\n",
       "      <td>3.000000</td>\n",
       "      <td>1.000000</td>\n",
       "    </tr>\n",
       "  </tbody>\n",
       "</table>\n",
       "</div>"
      ],
      "text/plain": [
       "              age         sex          cp    trestbps        chol         fbs  \\\n",
       "count  303.000000  303.000000  303.000000  303.000000  303.000000  303.000000   \n",
       "mean    54.366337    0.683168    0.966997  131.623762  246.264026    0.148515   \n",
       "std      9.082101    0.466011    1.032052   17.538143   51.830751    0.356198   \n",
       "min     29.000000    0.000000    0.000000   94.000000  126.000000    0.000000   \n",
       "25%     47.500000    0.000000    0.000000  120.000000  211.000000    0.000000   \n",
       "50%     55.000000    1.000000    1.000000  130.000000  240.000000    0.000000   \n",
       "75%     61.000000    1.000000    2.000000  140.000000  274.500000    0.000000   \n",
       "max     77.000000    1.000000    3.000000  200.000000  564.000000    1.000000   \n",
       "\n",
       "          restecg     thalach       exang     oldpeak       slope          ca  \\\n",
       "count  303.000000  303.000000  303.000000  303.000000  303.000000  303.000000   \n",
       "mean     0.528053  149.646865    0.326733    1.039604    1.399340    0.729373   \n",
       "std      0.525860   22.905161    0.469794    1.161075    0.616226    1.022606   \n",
       "min      0.000000   71.000000    0.000000    0.000000    0.000000    0.000000   \n",
       "25%      0.000000  133.500000    0.000000    0.000000    1.000000    0.000000   \n",
       "50%      1.000000  153.000000    0.000000    0.800000    1.000000    0.000000   \n",
       "75%      1.000000  166.000000    1.000000    1.600000    2.000000    1.000000   \n",
       "max      2.000000  202.000000    1.000000    6.200000    2.000000    4.000000   \n",
       "\n",
       "             thal      target  \n",
       "count  303.000000  303.000000  \n",
       "mean     2.313531    0.544554  \n",
       "std      0.612277    0.498835  \n",
       "min      0.000000    0.000000  \n",
       "25%      2.000000    0.000000  \n",
       "50%      2.000000    1.000000  \n",
       "75%      3.000000    1.000000  \n",
       "max      3.000000    1.000000  "
      ]
     },
     "execution_count": 7,
     "metadata": {},
     "output_type": "execute_result"
    }
   ],
   "source": [
    "dataset.describe()"
   ]
  },
  {
   "cell_type": "code",
   "execution_count": 8,
   "id": "924f91d2",
   "metadata": {},
   "outputs": [
    {
     "name": "stdout",
     "output_type": "stream",
     "text": [
      "age:\t\t\tage\n",
      "sex:\t\t\t1: male, 0: female\n",
      "cp:\t\t\tchest pain type, 1: typical angina, 2: atypical angina, 3: non-anginal pain, 4: asymptomatic\n",
      "trestbps:\t\t\tresting blood pressure\n",
      "chol:\t\t\t serum cholestoral in mg/dl\n",
      "fbs:\t\t\tfasting blood sugar > 120 mg/dl\n",
      "restecg:\t\t\tresting electrocardiographic results (values 0,1,2)\n",
      "thalach:\t\t\t maximum heart rate achieved\n",
      "exang:\t\t\texercise induced angina\n",
      "oldpeak:\t\t\toldpeak = ST depression induced by exercise relative to rest\n",
      "slope:\t\t\tthe slope of the peak exercise ST segment\n",
      "ca:\t\t\tnumber of major vessels (0-3) colored by flourosopy\n",
      "thal:\t\t\tthal: 3 = normal; 6 = fixed defect; 7 = reversable defect\n"
     ]
    }
   ],
   "source": [
    "info = [\"age\",\"1: male, 0: female\",\"chest pain type, 1: typical angina, 2: atypical angina, 3: non-anginal pain, 4: asymptomatic\",\"resting blood pressure\",\" serum cholestoral in mg/dl\",\"fasting blood sugar > 120 mg/dl\",\"resting electrocardiographic results (values 0,1,2)\",\" maximum heart rate achieved\",\"exercise induced angina\",\"oldpeak = ST depression induced by exercise relative to rest\",\"the slope of the peak exercise ST segment\",\"number of major vessels (0-3) colored by flourosopy\",\"thal: 3 = normal; 6 = fixed defect; 7 = reversable defect\"]\n",
    "\n",
    "\n",
    "\n",
    "for i in range(len(info)):\n",
    "    print(dataset.columns[i]+\":\\t\\t\\t\"+info[i])"
   ]
  },
  {
   "cell_type": "code",
   "execution_count": 9,
   "id": "dcc108ef",
   "metadata": {},
   "outputs": [],
   "source": [
    "# Here's a summary of the column meanings based on the information you provided:\n",
    "\n",
    "# age: The age of the individual.\n",
    "# sex: The sex of the individual, encoded as 1 for male and 0 for female.\n",
    "# cp: The type of chest pain experienced, with specific integer values representing:\n",
    "# 1: Typical angina\n",
    "# 2: Atypical angina\n",
    "# 3: Non-anginal pain\n",
    "# 4: Asymptomatic\n",
    "# trestbps: The resting blood pressure.\n",
    "# chol: The serum cholesterol level in mg/dl.\n",
    "# fbs: Indicates if fasting blood sugar is greater than 120 mg/dl. The encoding (likely 1 for true, 0 for false) is implied.\n",
    "# restecg: The results of the resting electrocardiogram, with integer values 0, 1, and 2 representing different findings.\n",
    "# thalach: The maximum heart rate achieved during exercise.\n",
    "# exang: Indicates if exercise induced angina. The encoding (likely 1 for true, 0 for false) is implied.\n",
    "# oldpeak: The ST depression induced by exercise relative to rest.\n",
    "# slope: The slope of the peak exercise ST segment. The integer values would represent different slope types (e.g., upsloping, flat, downsloping).\n",
    "# ca: The number of major vessels (0 to 3) colored by fluoroscopy.\n",
    "# thal: Thalassemia, with specific integer values representing:\n",
    "# 3: Normal\n",
    "# 6: Fixed defect\n",
    "# 7: Reversible defect\n",
    "# target: (Based on the initial context of training data for heart disease prediction) This is the target variable indicating the presence of heart disease (likely 1 for presence, 0 for absence)."
   ]
  },
  {
   "cell_type": "code",
   "execution_count": 10,
   "id": "e6a71c3f",
   "metadata": {},
   "outputs": [
    {
     "data": {
      "text/plain": [
       "count    303.000000\n",
       "mean       0.544554\n",
       "std        0.498835\n",
       "min        0.000000\n",
       "25%        0.000000\n",
       "50%        1.000000\n",
       "75%        1.000000\n",
       "max        1.000000\n",
       "Name: target, dtype: float64"
      ]
     },
     "execution_count": 10,
     "metadata": {},
     "output_type": "execute_result"
    }
   ],
   "source": [
    "dataset[\"target\"].describe()"
   ]
  },
  {
   "cell_type": "code",
   "execution_count": 11,
   "id": "aa28f001",
   "metadata": {},
   "outputs": [
    {
     "name": "stdout",
     "output_type": "stream",
     "text": [
      "target      1.000000\n",
      "exang       0.436757\n",
      "cp          0.433798\n",
      "oldpeak     0.430696\n",
      "thalach     0.421741\n",
      "ca          0.391724\n",
      "slope       0.345877\n",
      "thal        0.344029\n",
      "sex         0.280937\n",
      "age         0.225439\n",
      "trestbps    0.144931\n",
      "restecg     0.137230\n",
      "chol        0.085239\n",
      "fbs         0.028046\n",
      "Name: target, dtype: float64\n"
     ]
    }
   ],
   "source": [
    "print(dataset.corr()[\"target\"].abs().sort_values(ascending=False))"
   ]
  },
  {
   "cell_type": "code",
   "execution_count": 12,
   "id": "6342cac5",
   "metadata": {},
   "outputs": [],
   "source": [
    "#This shows that most columns are moderately correlated with target, but 'fbs' is very weakly correlated."
   ]
  },
  {
   "cell_type": "code",
   "execution_count": 13,
   "id": "33808796",
   "metadata": {},
   "outputs": [
    {
     "name": "stdout",
     "output_type": "stream",
     "text": [
      "1    165\n",
      "0    138\n",
      "Name: target, dtype: int64\n"
     ]
    },
    {
     "data": {
      "image/png": "[encoded data removed]",
      "text/plain": [
       "<Figure size 640x480 with 1 Axes>"
      ]
     },
     "metadata": {},
     "output_type": "display_data"
    }
   ],
   "source": [
    "\n",
    "y = dataset[\"target\"]\n",
    "\n",
    "sns.countplot(x=y)\n",
    "\n",
    "\n",
    "target_temp = dataset.target.value_counts()\n",
    "\n",
    "print(target_temp)"
   ]
  },
  {
   "cell_type": "code",
   "execution_count": null,
   "id": "fb9d312d",
   "metadata": {},
   "outputs": [],
   "source": []
  },
  {
   "cell_type": "code",
   "execution_count": null,
   "id": "4d7afe3e",
   "metadata": {},
   "outputs": [],
   "source": []
  },
  {
   "cell_type": "code",
   "execution_count": null,
   "id": "e34dd08f",
   "metadata": {},
   "outputs": [],
   "source": []
  },
  {
   "cell_type": "code",
   "execution_count": 14,
   "id": "eeb51864",
   "metadata": {},
   "outputs": [
    {
     "name": "stdout",
     "output_type": "stream",
     "text": [
      "Percentage of patience without heart problems: 45.54\n",
      "Percentage of patience with heart problems: 54.46\n"
     ]
    }
   ],
   "source": [
    "print(\"Percentage of patience without heart problems: \"+str(round(target_temp[0]*100/303,2)))\n",
    "print(\"Percentage of patience with heart problems: \"+str(round(target_temp[1]*100/303,2)))\n",
    "\n",
    "#Alternatively,\n",
    "# print(\"Percentage of patience with heart problems: \"+str(y.where(y==1).count()*100/303))\n",
    "# print(\"Percentage of patience with heart problems: \"+str(y.where(y==0).count()*100/303))\n",
    "\n",
    "# #Or,\n",
    "# countNoDisease = len(df[df.target == 0])\n",
    "# countHaveDisease = len(df[df.target == 1])"
   ]
  },
  {
   "cell_type": "code",
   "execution_count": 15,
   "id": "dc70105b",
   "metadata": {},
   "outputs": [
    {
     "data": {
      "text/plain": [
       "array([1, 0], dtype=int64)"
      ]
     },
     "execution_count": 15,
     "metadata": {},
     "output_type": "execute_result"
    }
   ],
   "source": [
    "dataset[\"sex\"].unique()"
   ]
  },
  {
   "cell_type": "code",
   "execution_count": 16,
   "id": "7559adab",
   "metadata": {},
   "outputs": [
    {
     "data": {
      "text/plain": [
       "array([3, 2, 1, 0], dtype=int64)"
      ]
     },
     "execution_count": 16,
     "metadata": {},
     "output_type": "execute_result"
    }
   ],
   "source": [
    "dataset[\"cp\"].unique()"
   ]
  },
  {
   "cell_type": "code",
   "execution_count": 17,
   "id": "f3b5d6bc",
   "metadata": {},
   "outputs": [
    {
     "data": {
      "text/plain": [
       "<AxesSubplot:xlabel='sex', ylabel='target'>"
      ]
     },
     "execution_count": 17,
     "metadata": {},
     "output_type": "execute_result"
    },
    {
     "data": {
      "image/png": "[encoded data removed]",
      "text/plain": [
       "<Figure size 640x480 with 1 Axes>"
      ]
     },
     "metadata": {},
     "output_type": "display_data"
    }
   ],
   "source": [
    "y = dataset[\"target\"]\n",
    "sns.barplot(x=dataset[\"sex\"],y=y)"
   ]
  },
  {
   "cell_type": "code",
   "execution_count": 18,
   "id": "0a9b23f3",
   "metadata": {},
   "outputs": [
    {
     "data": {
      "text/plain": [
       "array([0, 1, 2], dtype=int64)"
      ]
     },
     "execution_count": 18,
     "metadata": {},
     "output_type": "execute_result"
    }
   ],
   "source": [
    "dataset[\"restecg\"].unique()"
   ]
  },
  {
   "cell_type": "code",
   "execution_count": 19,
   "id": "19585f0a",
   "metadata": {},
   "outputs": [
    {
     "data": {
      "text/plain": [
       "<AxesSubplot:xlabel='restecg', ylabel='target'>"
      ]
     },
     "execution_count": 19,
     "metadata": {},
     "output_type": "execute_result"
    },
    {
     "data": {
      "image/png": "[encoded data removed]",
      "text/plain": [
       "<Figure size 640x480 with 1 Axes>"
      ]
     },
     "metadata": {},
     "output_type": "display_data"
    }
   ],
   "source": [
    "sns.barplot(x=dataset[\"restecg\"],y=y)"
   ]
  },
  {
   "cell_type": "code",
   "execution_count": 20,
   "id": "a04e8ca9",
   "metadata": {},
   "outputs": [
    {
     "data": {
      "text/plain": [
       "array([0, 1], dtype=int64)"
      ]
     },
     "execution_count": 20,
     "metadata": {},
     "output_type": "execute_result"
    }
   ],
   "source": [
    "dataset[\"exang\"].unique()"
   ]
  },
  {
   "cell_type": "code",
   "execution_count": 21,
   "id": "e3922b66",
   "metadata": {},
   "outputs": [
    {
     "data": {
      "text/plain": [
       "<AxesSubplot:xlabel='exang', ylabel='target'>"
      ]
     },
     "execution_count": 21,
     "metadata": {},
     "output_type": "execute_result"
    },
    {
     "data": {
      "image/png": "[encoded data removed]",
      "text/plain": [
       "<Figure size 640x480 with 1 Axes>"
      ]
     },
     "metadata": {},
     "output_type": "display_data"
    }
   ],
   "source": [
    "sns.barplot(x=dataset[\"exang\"],y=y)"
   ]
  },
  {
   "cell_type": "code",
   "execution_count": 22,
   "id": "db629a22",
   "metadata": {},
   "outputs": [
    {
     "data": {
      "text/plain": [
       "array([0, 2, 1], dtype=int64)"
      ]
     },
     "execution_count": 22,
     "metadata": {},
     "output_type": "execute_result"
    }
   ],
   "source": [
    "dataset[\"slope\"].unique()"
   ]
  },
  {
   "cell_type": "code",
   "execution_count": 23,
   "id": "b2a6b692",
   "metadata": {},
   "outputs": [
    {
     "data": {
      "text/plain": [
       "<AxesSubplot:xlabel='slope', ylabel='target'>"
      ]
     },
     "execution_count": 23,
     "metadata": {},
     "output_type": "execute_result"
    },
    {
     "data": {
      "image/png": "[encoded data removed]",
      "text/plain": [
       "<Figure size 640x480 with 1 Axes>"
      ]
     },
     "metadata": {},
     "output_type": "display_data"
    }
   ],
   "source": [
    "sns.barplot(x=dataset[\"slope\"],y=y)"
   ]
  },
  {
   "cell_type": "code",
   "execution_count": 24,
   "id": "90c3504c",
   "metadata": {},
   "outputs": [
    {
     "data": {
      "text/plain": [
       "array([0, 2, 1, 3, 4], dtype=int64)"
      ]
     },
     "execution_count": 24,
     "metadata": {},
     "output_type": "execute_result"
    }
   ],
   "source": [
    "dataset[\"ca\"].unique()"
   ]
  },
  {
   "cell_type": "code",
   "execution_count": 25,
   "id": "a5a924e1",
   "metadata": {},
   "outputs": [
    {
     "data": {
      "text/plain": [
       "<AxesSubplot:xlabel='ca', ylabel='count'>"
      ]
     },
     "execution_count": 25,
     "metadata": {},
     "output_type": "execute_result"
    },
    {
     "data": {
      "image/png": "[encoded data removed]",
      "text/plain": [
       "<Figure size 640x480 with 1 Axes>"
      ]
     },
     "metadata": {},
     "output_type": "display_data"
    }
   ],
   "source": [
    "sns.countplot(x=dataset[\"ca\"])\n"
   ]
  },
  {
   "cell_type": "code",
   "execution_count": 26,
   "id": "9416e465",
   "metadata": {},
   "outputs": [
    {
     "data": {
      "text/plain": [
       "<AxesSubplot:xlabel='ca', ylabel='target'>"
      ]
     },
     "execution_count": 26,
     "metadata": {},
     "output_type": "execute_result"
    },
    {
     "data": {
      "image/png": "[encoded data removed]",
      "text/plain": [
       "<Figure size 640x480 with 1 Axes>"
      ]
     },
     "metadata": {},
     "output_type": "display_data"
    }
   ],
   "source": [
    "sns.barplot(x=dataset[\"ca\"],y=y)"
   ]
  },
  {
   "cell_type": "code",
   "execution_count": 27,
   "id": "87016d65",
   "metadata": {},
   "outputs": [
    {
     "data": {
      "text/plain": [
       "array([1, 2, 3, 0], dtype=int64)"
      ]
     },
     "execution_count": 27,
     "metadata": {},
     "output_type": "execute_result"
    }
   ],
   "source": [
    "dataset[\"thal\"].unique()"
   ]
  },
  {
   "cell_type": "code",
   "execution_count": 28,
   "id": "9e27b95a",
   "metadata": {},
   "outputs": [
    {
     "data": {
      "text/plain": [
       "<AxesSubplot:xlabel='thal', ylabel='target'>"
      ]
     },
     "execution_count": 28,
     "metadata": {},
     "output_type": "execute_result"
    },
    {
     "data": {
      "image/png": "[encoded data removed]",
      "text/plain": [
       "<Figure size 640x480 with 1 Axes>"
      ]
     },
     "metadata": {},
     "output_type": "display_data"
    }
   ],
   "source": [
    "sns.barplot(x=dataset[\"thal\"],y=y)\n"
   ]
  },
  {
   "cell_type": "code",
   "execution_count": 29,
   "id": "4687e93b",
   "metadata": {},
   "outputs": [
    {
     "data": {
      "text/plain": [
       "<AxesSubplot:ylabel='Density'>"
      ]
     },
     "execution_count": 29,
     "metadata": {},
     "output_type": "execute_result"
    },
    {
     "data": {
      "image/png": "[encoded data removed]",
      "text/plain": [
       "<Figure size 640x480 with 1 Axes>"
      ]
     },
     "metadata": {},
     "output_type": "display_data"
    }
   ],
   "source": [
    "sns.distplot(x=dataset[\"thal\"])"
   ]
  },
  {
   "cell_type": "code",
   "execution_count": 30,
   "id": "c553fe87",
   "metadata": {},
   "outputs": [],
   "source": [
    "from sklearn.model_selection import train_test_split\n",
    "\n",
    "predictors = dataset.drop(\"target\",axis=1)\n",
    "target = dataset[\"target\"]\n",
    "\n",
    "X_train,X_test,Y_train,Y_test = train_test_split(predictors,target,test_size=0.20,random_state=0)"
   ]
  },
  {
   "cell_type": "code",
   "execution_count": 31,
   "id": "5f92e284",
   "metadata": {},
   "outputs": [
    {
     "data": {
      "text/plain": [
       "(242, 13)"
      ]
     },
     "execution_count": 31,
     "metadata": {},
     "output_type": "execute_result"
    }
   ],
   "source": [
    "X_train.shape"
   ]
  },
  {
   "cell_type": "code",
   "execution_count": 32,
   "id": "a6dd07ab",
   "metadata": {},
   "outputs": [
    {
     "data": {
      "text/plain": [
       "(61, 13)"
      ]
     },
     "execution_count": 32,
     "metadata": {},
     "output_type": "execute_result"
    }
   ],
   "source": [
    "X_test.shape"
   ]
  },
  {
   "cell_type": "code",
   "execution_count": 33,
   "id": "d5196ed5",
   "metadata": {},
   "outputs": [
    {
     "data": {
      "text/plain": [
       "(242,)"
      ]
     },
     "execution_count": 33,
     "metadata": {},
     "output_type": "execute_result"
    }
   ],
   "source": [
    "Y_train.shape"
   ]
  },
  {
   "cell_type": "code",
   "execution_count": 34,
   "id": "98708d40",
   "metadata": {},
   "outputs": [
    {
     "data": {
      "text/plain": [
       "(61,)"
      ]
     },
     "execution_count": 34,
     "metadata": {},
     "output_type": "execute_result"
    }
   ],
   "source": [
    "Y_test.shape"
   ]
  },
  {
   "cell_type": "code",
   "execution_count": 35,
   "id": "88011976",
   "metadata": {},
   "outputs": [],
   "source": [
    "from sklearn.metrics import accuracy_score"
   ]
  },
  {
   "cell_type": "code",
   "execution_count": 36,
   "id": "bd022fbd",
   "metadata": {},
   "outputs": [],
   "source": [
    "from sklearn.linear_model import LogisticRegression\n",
    "\n",
    "lr = LogisticRegression()\n",
    "\n",
    "lr.fit(X_train,Y_train)\n",
    "\n",
    "Y_pred_lr = lr.predict(X_test)"
   ]
  },
  {
   "cell_type": "code",
   "execution_count": 37,
   "id": "a5373854",
   "metadata": {},
   "outputs": [
    {
     "data": {
      "text/plain": [
       "(61,)"
      ]
     },
     "execution_count": 37,
     "metadata": {},
     "output_type": "execute_result"
    }
   ],
   "source": [
    "Y_pred_lr.shape"
   ]
  },
  {
   "cell_type": "code",
   "execution_count": 38,
   "id": "05c09e9b",
   "metadata": {},
   "outputs": [
    {
     "name": "stdout",
     "output_type": "stream",
     "text": [
      "The accuracy score achieved using Logistic Regression is: 85.25 %\n"
     ]
    }
   ],
   "source": [
    "score_lr = round(accuracy_score(Y_pred_lr,Y_test)*100,2)\n",
    "\n",
    "print(\"The accuracy score achieved using Logistic Regression is: \"+str(score_lr)+\" %\")"
   ]
  },
  {
   "cell_type": "code",
   "execution_count": 39,
   "id": "a72300a5",
   "metadata": {},
   "outputs": [],
   "source": [
    "from sklearn.naive_bayes import GaussianNB\n",
    "\n",
    "nb = GaussianNB()\n",
    "\n",
    "nb.fit(X_train,Y_train)\n",
    "\n",
    "Y_pred_nb = nb.predict(X_test)"
   ]
  },
  {
   "cell_type": "code",
   "execution_count": 40,
   "id": "66acd2f4",
   "metadata": {},
   "outputs": [
    {
     "data": {
      "text/plain": [
       "(61,)"
      ]
     },
     "execution_count": 40,
     "metadata": {},
     "output_type": "execute_result"
    }
   ],
   "source": [
    "Y_pred_nb.shape"
   ]
  },
  {
   "cell_type": "code",
   "execution_count": 41,
   "id": "c59abcf6",
   "metadata": {},
   "outputs": [
    {
     "name": "stdout",
     "output_type": "stream",
     "text": [
      "The accuracy score achieved using Naive Bayes is: 85.25 %\n"
     ]
    }
   ],
   "source": [
    "score_nb = round(accuracy_score(Y_pred_nb,Y_test)*100,2)\n",
    "\n",
    "print(\"The accuracy score achieved using Naive Bayes is: \"+str(score_nb)+\" %\")"
   ]
  },
  {
   "cell_type": "code",
   "execution_count": 42,
   "id": "fd0277a9",
   "metadata": {},
   "outputs": [],
   "source": [
    "from sklearn import svm\n",
    "\n",
    "sv = svm.SVC(kernel='linear')\n",
    "\n",
    "sv.fit(X_train, Y_train)\n",
    "\n",
    "Y_pred_svm = sv.predict(X_test)"
   ]
  },
  {
   "cell_type": "code",
   "execution_count": 43,
   "id": "2a3325f8",
   "metadata": {},
   "outputs": [
    {
     "data": {
      "text/plain": [
       "(61,)"
      ]
     },
     "execution_count": 43,
     "metadata": {},
     "output_type": "execute_result"
    }
   ],
   "source": [
    "Y_pred_svm.shape"
   ]
  },
  {
   "cell_type": "code",
   "execution_count": 44,
   "id": "780b2f73",
   "metadata": {},
   "outputs": [
    {
     "name": "stdout",
     "output_type": "stream",
     "text": [
      "The accuracy score achieved using Linear SVM is: 81.97 %\n"
     ]
    }
   ],
   "source": [
    "score_svm = round(accuracy_score(Y_pred_svm,Y_test)*100,2)\n",
    "\n",
    "print(\"The accuracy score achieved using Linear SVM is: \"+str(score_svm)+\" %\")"
   ]
  },
  {
   "cell_type": "code",
   "execution_count": 45,
   "id": "1c21c069",
   "metadata": {},
   "outputs": [],
   "source": [
    "from sklearn.neighbors import KNeighborsClassifier\n",
    "\n",
    "knn = KNeighborsClassifier(n_neighbors=7)\n",
    "knn.fit(X_train,Y_train)\n",
    "Y_pred_knn=knn.predict(X_test)"
   ]
  },
  {
   "cell_type": "code",
   "execution_count": 46,
   "id": "ef46f9c8",
   "metadata": {},
   "outputs": [
    {
     "data": {
      "text/plain": [
       "(61,)"
      ]
     },
     "execution_count": 46,
     "metadata": {},
     "output_type": "execute_result"
    }
   ],
   "source": [
    "Y_pred_knn.shape"
   ]
  },
  {
   "cell_type": "code",
   "execution_count": 47,
   "id": "f5525c5b",
   "metadata": {},
   "outputs": [
    {
     "name": "stdout",
     "output_type": "stream",
     "text": [
      "The accuracy score achieved using KNN is: 67.21 %\n"
     ]
    }
   ],
   "source": [
    "score_knn = round(accuracy_score(Y_pred_knn,Y_test)*100,2)\n",
    "\n",
    "print(\"The accuracy score achieved using KNN is: \"+str(score_knn)+\" %\")"
   ]
  },
  {
   "cell_type": "code",
   "execution_count": 48,
   "id": "99aebcc5",
   "metadata": {},
   "outputs": [],
   "source": [
    "from sklearn.tree import DecisionTreeClassifier\n",
    "\n",
    "max_accuracy = 0\n",
    "\n",
    "\n",
    "for x in range(200):\n",
    "    dt = DecisionTreeClassifier(random_state=x)\n",
    "    dt.fit(X_train,Y_train)\n",
    "    Y_pred_dt = dt.predict(X_test)\n",
    "    current_accuracy = round(accuracy_score(Y_pred_dt,Y_test)*100,2)\n",
    "    if(current_accuracy>max_accuracy):\n",
    "        max_accuracy = current_accuracy\n",
    "        best_x = x\n",
    "        \n",
    "#print(max_accuracy)\n",
    "#print(best_x)\n",
    "\n",
    "\n",
    "dt = DecisionTreeClassifier(random_state=best_x)\n",
    "dt.fit(X_train,Y_train)\n",
    "Y_pred_dt = dt.predict(X_test)"
   ]
  },
  {
   "cell_type": "code",
   "execution_count": 49,
   "id": "8b0f6949",
   "metadata": {},
   "outputs": [
    {
     "name": "stdout",
     "output_type": "stream",
     "text": [
      "(61,)\n"
     ]
    }
   ],
   "source": [
    "print(Y_pred_dt.shape)"
   ]
  },
  {
   "cell_type": "code",
   "execution_count": 50,
   "id": "76263cb0",
   "metadata": {},
   "outputs": [
    {
     "name": "stdout",
     "output_type": "stream",
     "text": [
      "The accuracy score achieved using Decision Tree is: 81.97 %\n"
     ]
    }
   ],
   "source": [
    "score_dt = round(accuracy_score(Y_pred_dt,Y_test)*100,2)\n",
    "\n",
    "print(\"The accuracy score achieved using Decision Tree is: \"+str(score_dt)+\" %\")"
   ]
  },
  {
   "cell_type": "code",
   "execution_count": 51,
   "id": "a87b9cdc",
   "metadata": {},
   "outputs": [],
   "source": [
    "from sklearn.ensemble import RandomForestClassifier\n",
    "\n",
    "max_accuracy = 0\n",
    "\n",
    "\n",
    "for x in range(2000):\n",
    "    rf = RandomForestClassifier(random_state=x)\n",
    "    rf.fit(X_train,Y_train)\n",
    "    Y_pred_rf = rf.predict(X_test)\n",
    "    current_accuracy = round(accuracy_score(Y_pred_rf,Y_test)*100,2)\n",
    "    if(current_accuracy>max_accuracy):\n",
    "        max_accuracy = current_accuracy\n",
    "        best_x = x\n",
    "        \n",
    "#print(max_accuracy)\n",
    "#print(best_x)\n",
    "\n",
    "rf = RandomForestClassifier(random_state=best_x)\n",
    "rf.fit(X_train,Y_train)\n",
    "Y_pred_rf = rf.predict(X_test)"
   ]
  },
  {
   "cell_type": "code",
   "execution_count": 52,
   "id": "1668bf12",
   "metadata": {},
   "outputs": [
    {
     "data": {
      "text/plain": [
       "(61,)"
      ]
     },
     "execution_count": 52,
     "metadata": {},
     "output_type": "execute_result"
    }
   ],
   "source": [
    "Y_pred_rf.shape"
   ]
  },
  {
   "cell_type": "code",
   "execution_count": 53,
   "id": "ce218f40",
   "metadata": {},
   "outputs": [
    {
     "name": "stdout",
     "output_type": "stream",
     "text": [
      "The accuracy score achieved using Decision Tree is: 90.16 %\n"
     ]
    }
   ],
   "source": [
    "score_rf = round(accuracy_score(Y_pred_rf,Y_test)*100,2)\n",
    "\n",
    "print(\"The accuracy score achieved using Decision Tree is: \"+str(score_rf)+\" %\")"
   ]
  },
  {
   "cell_type": "code",
   "execution_count": 54,
   "id": "8fd7d6f8",
   "metadata": {},
   "outputs": [
    {
     "name": "stdout",
     "output_type": "stream",
     "text": [
      "C:\\Users\\Lenovo\\AppData\\Local\\Programs\\Python\\Python310\\python.exe\n"
     ]
    }
   ],
   "source": [
    "import sys\n",
    "print(sys.executable)\n"
   ]
  },
  {
   "cell_type": "code",
   "execution_count": 55,
   "id": "a1da1e52",
   "metadata": {},
   "outputs": [
    {
     "name": "stdout",
     "output_type": "stream",
     "text": [
      "Name: xgboost\n",
      "Version: 3.0.2\n",
      "Summary: XGBoost Python Package\n",
      "Home-page: \n",
      "Author: \n",
      "Author-email: Hyunsu Cho <chohyu01@cs.washington.edu>, Jiaming Yuan <jm.yuan@outlook.com>\n",
      "License: Apache-2.0\n",
      "Location: c:\\users\\lenovo\\appdata\\local\\programs\\python\\python310\\lib\\site-packages\n",
      "Requires: numpy, scipy\n",
      "Required-by: \n",
      "Note: you may need to restart the kernel to use updated packages.\n"
     ]
    }
   ],
   "source": [
    "pip show xgboost\n"
   ]
  },
  {
   "cell_type": "code",
   "execution_count": 56,
   "id": "d9b625e2",
   "metadata": {},
   "outputs": [],
   "source": [
    "\n",
    "import xgboost as xgb\n",
    "\n",
    "xgb_model = xgb.XGBClassifier(objective=\"binary:logistic\", random_state=42)\n",
    "xgb_model.fit(X_train, Y_train)\n",
    "\n",
    "Y_pred_xgb = xgb_model.predict(X_test)"
   ]
  },
  {
   "cell_type": "code",
   "execution_count": 57,
   "id": "0811e81e",
   "metadata": {},
   "outputs": [
    {
     "data": {
      "text/plain": [
       "(61,)"
      ]
     },
     "execution_count": 57,
     "metadata": {},
     "output_type": "execute_result"
    }
   ],
   "source": [
    "Y_pred_xgb.shape\n"
   ]
  },
  {
   "cell_type": "code",
   "execution_count": 58,
   "id": "32b06ae7",
   "metadata": {},
   "outputs": [
    {
     "name": "stdout",
     "output_type": "stream",
     "text": [
      "The accuracy score achieved using XGBoost is: 83.61 %\n"
     ]
    }
   ],
   "source": [
    "score_xgb = round(accuracy_score(Y_pred_xgb,Y_test)*100,2)\n",
    "\n",
    "print(\"The accuracy score achieved using XGBoost is: \"+str(score_xgb)+\" %\")"
   ]
  },
  {
   "cell_type": "code",
   "execution_count": 59,
   "id": "f34d2792",
   "metadata": {},
   "outputs": [],
   "source": [
    "from keras.models import Sequential\n",
    "from keras.layers import Dense\n"
   ]
  },
  {
   "cell_type": "code",
   "execution_count": 60,
   "id": "b49f11aa",
   "metadata": {},
   "outputs": [],
   "source": [
    "# https://stats.stackexchange.com/a/136542 helped a lot in avoiding overfitting\n",
    "\n",
    "model = Sequential()\n",
    "model.add(Dense(11,activation='relu',input_dim=13))\n",
    "model.add(Dense(1,activation='sigmoid'))\n",
    "\n",
    "model.compile(loss='binary_crossentropy',optimizer='adam',metrics=['accuracy'])\n"
   ]
  },
  {
   "cell_type": "code",
   "execution_count": 61,
   "id": "b13fa63a",
   "metadata": {},
   "outputs": [
    {
     "name": "stdout",
     "output_type": "stream",
     "text": [
      "Epoch 1/300\n",
      "8/8 [==============================] - 1s 7ms/step - loss: 48.5033 - accuracy: 0.5413\n",
      "Epoch 2/300\n",
      "8/8 [==============================] - 0s 4ms/step - loss: 42.5498 - accuracy: 0.5413\n",
      "Epoch 3/300\n",
      "8/8 [==============================] - 0s 4ms/step - loss: 35.9943 - accuracy: 0.5413\n",
      "Epoch 4/300\n",
      "8/8 [==============================] - 0s 2ms/step - loss: 29.3966 - accuracy: 0.5413\n",
      "Epoch 5/300\n",
      "8/8 [==============================] - 0s 2ms/step - loss: 22.7017 - accuracy: 0.5413\n",
      "Epoch 6/300\n",
      "8/8 [==============================] - 0s 2ms/step - loss: 15.4712 - accuracy: 0.5744\n",
      "Epoch 7/300\n",
      "8/8 [==============================] - 0s 4ms/step - loss: 9.7258 - accuracy: 0.6074\n",
      "Epoch 8/300\n",
      "8/8 [==============================] - 0s 4ms/step - loss: 5.9413 - accuracy: 0.6364\n",
      "Epoch 9/300\n",
      "8/8 [==============================] - 0s 4ms/step - loss: 4.7055 - accuracy: 0.6488\n",
      "Epoch 10/300\n",
      "8/8 [==============================] - 0s 2ms/step - loss: 4.7951 - accuracy: 0.6446\n",
      "Epoch 11/300\n",
      "8/8 [==============================] - 0s 4ms/step - loss: 4.7532 - accuracy: 0.6529\n",
      "Epoch 12/300\n",
      "8/8 [==============================] - 0s 4ms/step - loss: 4.4994 - accuracy: 0.6364\n",
      "Epoch 13/300\n",
      "8/8 [==============================] - 0s 2ms/step - loss: 4.3508 - accuracy: 0.6529\n",
      "Epoch 14/300\n",
      "8/8 [==============================] - 0s 2ms/step - loss: 4.2995 - accuracy: 0.6529\n",
      "Epoch 15/300\n",
      "8/8 [==============================] - 0s 2ms/step - loss: 4.1990 - accuracy: 0.6653\n",
      "Epoch 16/300\n",
      "8/8 [==============================] - 0s 2ms/step - loss: 4.1089 - accuracy: 0.6694\n",
      "Epoch 17/300\n",
      "8/8 [==============================] - 0s 2ms/step - loss: 4.0356 - accuracy: 0.6694\n",
      "Epoch 18/300\n",
      "8/8 [==============================] - 0s 2ms/step - loss: 3.9493 - accuracy: 0.6694\n",
      "Epoch 19/300\n",
      "8/8 [==============================] - 0s 4ms/step - loss: 3.8747 - accuracy: 0.6694\n",
      "Epoch 20/300\n",
      "8/8 [==============================] - 0s 4ms/step - loss: 3.8026 - accuracy: 0.6736\n",
      "Epoch 21/300\n",
      "8/8 [==============================] - 0s 4ms/step - loss: 3.7225 - accuracy: 0.6777\n",
      "Epoch 22/300\n",
      "8/8 [==============================] - 0s 2ms/step - loss: 3.6581 - accuracy: 0.6736\n",
      "Epoch 23/300\n",
      "8/8 [==============================] - 0s 2ms/step - loss: 3.6029 - accuracy: 0.6736\n",
      "Epoch 24/300\n",
      "8/8 [==============================] - 0s 4ms/step - loss: 3.5210 - accuracy: 0.6777\n",
      "Epoch 25/300\n",
      "8/8 [==============================] - 0s 4ms/step - loss: 3.4948 - accuracy: 0.6736\n",
      "Epoch 26/300\n",
      "8/8 [==============================] - 0s 4ms/step - loss: 3.4116 - accuracy: 0.6777\n",
      "Epoch 27/300\n",
      "8/8 [==============================] - 0s 4ms/step - loss: 3.3560 - accuracy: 0.6694\n",
      "Epoch 28/300\n",
      "8/8 [==============================] - 0s 4ms/step - loss: 3.3068 - accuracy: 0.6694\n",
      "Epoch 29/300\n",
      "8/8 [==============================] - 0s 4ms/step - loss: 3.2545 - accuracy: 0.6777\n",
      "Epoch 30/300\n",
      "8/8 [==============================] - 0s 4ms/step - loss: 3.2042 - accuracy: 0.6694\n",
      "Epoch 31/300\n",
      "8/8 [==============================] - 0s 2ms/step - loss: 3.1517 - accuracy: 0.6694\n",
      "Epoch 32/300\n",
      "8/8 [==============================] - 0s 2ms/step - loss: 3.1135 - accuracy: 0.6736\n",
      "Epoch 33/300\n",
      "8/8 [==============================] - 0s 2ms/step - loss: 3.0836 - accuracy: 0.6777\n",
      "Epoch 34/300\n",
      "8/8 [==============================] - 0s 2ms/step - loss: 3.0197 - accuracy: 0.6777\n",
      "Epoch 35/300\n",
      "8/8 [==============================] - 0s 4ms/step - loss: 2.9601 - accuracy: 0.6736\n",
      "Epoch 36/300\n",
      "8/8 [==============================] - 0s 3ms/step - loss: 2.9220 - accuracy: 0.6777\n",
      "Epoch 37/300\n",
      "8/8 [==============================] - 0s 634us/step - loss: 2.8789 - accuracy: 0.6818\n",
      "Epoch 38/300\n",
      "8/8 [==============================] - 0s 2ms/step - loss: 2.8302 - accuracy: 0.6818\n",
      "Epoch 39/300\n",
      "8/8 [==============================] - 0s 2ms/step - loss: 2.7890 - accuracy: 0.6818\n",
      "Epoch 40/300\n",
      "8/8 [==============================] - 0s 2ms/step - loss: 2.7451 - accuracy: 0.6901\n",
      "Epoch 41/300\n",
      "8/8 [==============================] - 0s 4ms/step - loss: 2.7164 - accuracy: 0.6942\n",
      "Epoch 42/300\n",
      "8/8 [==============================] - 0s 6ms/step - loss: 2.6691 - accuracy: 0.6901\n",
      "Epoch 43/300\n",
      "8/8 [==============================] - 0s 3ms/step - loss: 2.6185 - accuracy: 0.6942\n",
      "Epoch 44/300\n",
      "8/8 [==============================] - 0s 4ms/step - loss: 2.5856 - accuracy: 0.6860\n",
      "Epoch 45/300\n",
      "8/8 [==============================] - 0s 4ms/step - loss: 2.5666 - accuracy: 0.6860\n",
      "Epoch 46/300\n",
      "8/8 [==============================] - 0s 2ms/step - loss: 2.5247 - accuracy: 0.6860\n",
      "Epoch 47/300\n",
      "8/8 [==============================] - 0s 2ms/step - loss: 2.4716 - accuracy: 0.6860\n",
      "Epoch 48/300\n",
      "8/8 [==============================] - 0s 4ms/step - loss: 2.4377 - accuracy: 0.6901\n",
      "Epoch 49/300\n",
      "8/8 [==============================] - 0s 4ms/step - loss: 2.4048 - accuracy: 0.6901\n",
      "Epoch 50/300\n",
      "8/8 [==============================] - 0s 4ms/step - loss: 2.3729 - accuracy: 0.6901\n",
      "Epoch 51/300\n",
      "8/8 [==============================] - 0s 2ms/step - loss: 2.3549 - accuracy: 0.6901\n",
      "Epoch 52/300\n",
      "8/8 [==============================] - 0s 4ms/step - loss: 2.3167 - accuracy: 0.6983\n",
      "Epoch 53/300\n",
      "8/8 [==============================] - 0s 4ms/step - loss: 2.2891 - accuracy: 0.6818\n",
      "Epoch 54/300\n",
      "8/8 [==============================] - 0s 2ms/step - loss: 2.2525 - accuracy: 0.6901\n",
      "Epoch 55/300\n",
      "8/8 [==============================] - 0s 4ms/step - loss: 2.2469 - accuracy: 0.6942\n",
      "Epoch 56/300\n",
      "8/8 [==============================] - 0s 2ms/step - loss: 2.2048 - accuracy: 0.6983\n",
      "Epoch 57/300\n",
      "8/8 [==============================] - 0s 2ms/step - loss: 2.1726 - accuracy: 0.7025\n",
      "Epoch 58/300\n",
      "8/8 [==============================] - 0s 2ms/step - loss: 2.1385 - accuracy: 0.6983\n",
      "Epoch 59/300\n",
      "8/8 [==============================] - 0s 4ms/step - loss: 2.1114 - accuracy: 0.6942\n",
      "Epoch 60/300\n",
      "8/8 [==============================] - 0s 4ms/step - loss: 2.0822 - accuracy: 0.7066\n",
      "Epoch 61/300\n",
      "8/8 [==============================] - 0s 4ms/step - loss: 2.0553 - accuracy: 0.7066\n",
      "Epoch 62/300\n",
      "8/8 [==============================] - 0s 2ms/step - loss: 2.0339 - accuracy: 0.7025\n",
      "Epoch 63/300\n",
      "8/8 [==============================] - 0s 2ms/step - loss: 2.0098 - accuracy: 0.7066\n",
      "Epoch 64/300\n",
      "8/8 [==============================] - 0s 2ms/step - loss: 1.9927 - accuracy: 0.7107\n",
      "Epoch 65/300\n",
      "8/8 [==============================] - 0s 2ms/step - loss: 1.9603 - accuracy: 0.7107\n",
      "Epoch 66/300\n",
      "8/8 [==============================] - 0s 4ms/step - loss: 1.9333 - accuracy: 0.7149\n",
      "Epoch 67/300\n",
      "8/8 [==============================] - 0s 2ms/step - loss: 1.9144 - accuracy: 0.7066\n",
      "Epoch 68/300\n",
      "8/8 [==============================] - 0s 2ms/step - loss: 1.8819 - accuracy: 0.7190\n",
      "Epoch 69/300\n",
      "8/8 [==============================] - 0s 2ms/step - loss: 1.8605 - accuracy: 0.7149\n",
      "Epoch 70/300\n",
      "8/8 [==============================] - 0s 2ms/step - loss: 1.8390 - accuracy: 0.7107\n",
      "Epoch 71/300\n",
      "8/8 [==============================] - 0s 2ms/step - loss: 1.8198 - accuracy: 0.7149\n",
      "Epoch 72/300\n",
      "8/8 [==============================] - 0s 4ms/step - loss: 1.8060 - accuracy: 0.7149\n",
      "Epoch 73/300\n",
      "8/8 [==============================] - 0s 2ms/step - loss: 1.8082 - accuracy: 0.7066\n",
      "Epoch 74/300\n",
      "8/8 [==============================] - 0s 4ms/step - loss: 1.7435 - accuracy: 0.7190\n",
      "Epoch 75/300\n",
      "8/8 [==============================] - 0s 4ms/step - loss: 1.7325 - accuracy: 0.7231\n",
      "Epoch 76/300\n",
      "8/8 [==============================] - 0s 4ms/step - loss: 1.7102 - accuracy: 0.7149\n",
      "Epoch 77/300\n",
      "8/8 [==============================] - 0s 2ms/step - loss: 1.6900 - accuracy: 0.7190\n",
      "Epoch 78/300\n",
      "8/8 [==============================] - 0s 2ms/step - loss: 1.6649 - accuracy: 0.7190\n",
      "Epoch 79/300\n",
      "8/8 [==============================] - 0s 2ms/step - loss: 1.6432 - accuracy: 0.7231\n",
      "Epoch 80/300\n",
      "8/8 [==============================] - 0s 2ms/step - loss: 1.6145 - accuracy: 0.7190\n",
      "Epoch 81/300\n",
      "8/8 [==============================] - 0s 2ms/step - loss: 1.6063 - accuracy: 0.7190\n",
      "Epoch 82/300\n",
      "8/8 [==============================] - 0s 4ms/step - loss: 1.5810 - accuracy: 0.7190\n",
      "Epoch 83/300\n",
      "8/8 [==============================] - 0s 4ms/step - loss: 1.5572 - accuracy: 0.7314\n",
      "Epoch 84/300\n"
     ]
    },
    {
     "name": "stdout",
     "output_type": "stream",
     "text": [
      "8/8 [==============================] - 0s 4ms/step - loss: 1.5350 - accuracy: 0.7273\n",
      "Epoch 85/300\n",
      "8/8 [==============================] - 0s 4ms/step - loss: 1.5145 - accuracy: 0.7231\n",
      "Epoch 86/300\n",
      "8/8 [==============================] - 0s 2ms/step - loss: 1.4986 - accuracy: 0.7273\n",
      "Epoch 87/300\n",
      "8/8 [==============================] - 0s 2ms/step - loss: 1.4658 - accuracy: 0.7231\n",
      "Epoch 88/300\n",
      "8/8 [==============================] - 0s 2ms/step - loss: 1.4513 - accuracy: 0.7314\n",
      "Epoch 89/300\n",
      "8/8 [==============================] - 0s 2ms/step - loss: 1.4256 - accuracy: 0.7314\n",
      "Epoch 90/300\n",
      "8/8 [==============================] - 0s 4ms/step - loss: 1.4029 - accuracy: 0.7355\n",
      "Epoch 91/300\n",
      "8/8 [==============================] - 0s 4ms/step - loss: 1.3816 - accuracy: 0.7314\n",
      "Epoch 92/300\n",
      "8/8 [==============================] - 0s 2ms/step - loss: 1.3648 - accuracy: 0.7273\n",
      "Epoch 93/300\n",
      "8/8 [==============================] - 0s 2ms/step - loss: 1.3622 - accuracy: 0.7355\n",
      "Epoch 94/300\n",
      "8/8 [==============================] - 0s 2ms/step - loss: 1.3249 - accuracy: 0.7397\n",
      "Epoch 95/300\n",
      "8/8 [==============================] - 0s 2ms/step - loss: 1.3002 - accuracy: 0.7273\n",
      "Epoch 96/300\n",
      "8/8 [==============================] - 0s 2ms/step - loss: 1.2967 - accuracy: 0.7149\n",
      "Epoch 97/300\n",
      "8/8 [==============================] - 0s 2ms/step - loss: 1.2649 - accuracy: 0.7355\n",
      "Epoch 98/300\n",
      "8/8 [==============================] - 0s 4ms/step - loss: 1.2548 - accuracy: 0.7314\n",
      "Epoch 99/300\n",
      "8/8 [==============================] - 0s 2ms/step - loss: 1.2255 - accuracy: 0.7355\n",
      "Epoch 100/300\n",
      "8/8 [==============================] - 0s 2ms/step - loss: 1.2035 - accuracy: 0.7314\n",
      "Epoch 101/300\n",
      "8/8 [==============================] - 0s 2ms/step - loss: 1.1925 - accuracy: 0.7397\n",
      "Epoch 102/300\n",
      "8/8 [==============================] - 0s 2ms/step - loss: 1.1689 - accuracy: 0.7397\n",
      "Epoch 103/300\n",
      "8/8 [==============================] - 0s 4ms/step - loss: 1.1482 - accuracy: 0.7397\n",
      "Epoch 104/300\n",
      "8/8 [==============================] - 0s 4ms/step - loss: 1.1416 - accuracy: 0.7273\n",
      "Epoch 105/300\n",
      "8/8 [==============================] - 0s 2ms/step - loss: 1.2051 - accuracy: 0.7149\n",
      "Epoch 106/300\n",
      "8/8 [==============================] - 0s 2ms/step - loss: 1.0736 - accuracy: 0.7438\n",
      "Epoch 107/300\n",
      "8/8 [==============================] - 0s 2ms/step - loss: 1.1053 - accuracy: 0.7066\n",
      "Epoch 108/300\n",
      "8/8 [==============================] - 0s 4ms/step - loss: 1.0796 - accuracy: 0.7231\n",
      "Epoch 109/300\n",
      "8/8 [==============================] - 0s 2ms/step - loss: 1.0451 - accuracy: 0.7438\n",
      "Epoch 110/300\n",
      "8/8 [==============================] - 0s 2ms/step - loss: 1.0275 - accuracy: 0.7231\n",
      "Epoch 111/300\n",
      "8/8 [==============================] - 0s 2ms/step - loss: 1.0020 - accuracy: 0.7397\n",
      "Epoch 112/300\n",
      "8/8 [==============================] - 0s 2ms/step - loss: 0.9893 - accuracy: 0.7355\n",
      "Epoch 113/300\n",
      "8/8 [==============================] - 0s 11ms/step - loss: 0.9724 - accuracy: 0.7438\n",
      "Epoch 114/300\n",
      "8/8 [==============================] - 0s 2ms/step - loss: 0.9621 - accuracy: 0.7355\n",
      "Epoch 115/300\n",
      "8/8 [==============================] - 0s 4ms/step - loss: 0.9303 - accuracy: 0.7562\n",
      "Epoch 116/300\n",
      "8/8 [==============================] - 0s 2ms/step - loss: 0.9212 - accuracy: 0.7479\n",
      "Epoch 117/300\n",
      "8/8 [==============================] - 0s 2ms/step - loss: 0.9028 - accuracy: 0.7438\n",
      "Epoch 118/300\n",
      "8/8 [==============================] - 0s 2ms/step - loss: 0.8873 - accuracy: 0.7479\n",
      "Epoch 119/300\n",
      "8/8 [==============================] - 0s 2ms/step - loss: 0.8689 - accuracy: 0.7479\n",
      "Epoch 120/300\n",
      "8/8 [==============================] - 0s 2ms/step - loss: 0.8508 - accuracy: 0.7521\n",
      "Epoch 121/300\n",
      "8/8 [==============================] - 0s 2ms/step - loss: 0.8342 - accuracy: 0.7562\n",
      "Epoch 122/300\n",
      "8/8 [==============================] - 0s 2ms/step - loss: 0.8242 - accuracy: 0.7562\n",
      "Epoch 123/300\n",
      "8/8 [==============================] - 0s 2ms/step - loss: 0.8152 - accuracy: 0.7603\n",
      "Epoch 124/300\n",
      "8/8 [==============================] - 0s 2ms/step - loss: 0.8405 - accuracy: 0.7314\n",
      "Epoch 125/300\n",
      "8/8 [==============================] - 0s 2ms/step - loss: 0.7871 - accuracy: 0.7438\n",
      "Epoch 126/300\n",
      "8/8 [==============================] - 0s 2ms/step - loss: 0.7693 - accuracy: 0.7562\n",
      "Epoch 127/300\n",
      "8/8 [==============================] - 0s 2ms/step - loss: 0.7515 - accuracy: 0.7521\n",
      "Epoch 128/300\n",
      "8/8 [==============================] - 0s 4ms/step - loss: 0.7342 - accuracy: 0.7645\n",
      "Epoch 129/300\n",
      "8/8 [==============================] - 0s 3ms/step - loss: 0.7157 - accuracy: 0.7645\n",
      "Epoch 130/300\n",
      "8/8 [==============================] - 0s 3ms/step - loss: 0.7060 - accuracy: 0.7769\n",
      "Epoch 131/300\n",
      "8/8 [==============================] - 0s 3ms/step - loss: 0.6902 - accuracy: 0.7727\n",
      "Epoch 132/300\n",
      "8/8 [==============================] - 0s 2ms/step - loss: 0.6757 - accuracy: 0.7769\n",
      "Epoch 133/300\n",
      "8/8 [==============================] - 0s 3ms/step - loss: 0.6801 - accuracy: 0.7521\n",
      "Epoch 134/300\n",
      "8/8 [==============================] - 0s 3ms/step - loss: 0.6582 - accuracy: 0.7603\n",
      "Epoch 135/300\n",
      "8/8 [==============================] - 0s 5ms/step - loss: 0.6518 - accuracy: 0.7562\n",
      "Epoch 136/300\n",
      "8/8 [==============================] - 0s 4ms/step - loss: 0.6414 - accuracy: 0.7397\n",
      "Epoch 137/300\n",
      "8/8 [==============================] - 0s 2ms/step - loss: 0.6315 - accuracy: 0.7562\n",
      "Epoch 138/300\n",
      "8/8 [==============================] - 0s 5ms/step - loss: 0.6274 - accuracy: 0.7562\n",
      "Epoch 139/300\n",
      "8/8 [==============================] - 0s 3ms/step - loss: 0.6100 - accuracy: 0.7603\n",
      "Epoch 140/300\n",
      "8/8 [==============================] - 0s 2ms/step - loss: 0.6030 - accuracy: 0.7727\n",
      "Epoch 141/300\n",
      "8/8 [==============================] - 0s 4ms/step - loss: 0.5904 - accuracy: 0.7603\n",
      "Epoch 142/300\n",
      "8/8 [==============================] - 0s 3ms/step - loss: 0.5749 - accuracy: 0.7810\n",
      "Epoch 143/300\n",
      "8/8 [==============================] - 0s 2ms/step - loss: 0.5627 - accuracy: 0.7686\n",
      "Epoch 144/300\n",
      "8/8 [==============================] - 0s 2ms/step - loss: 0.5680 - accuracy: 0.7479\n",
      "Epoch 145/300\n",
      "8/8 [==============================] - 0s 4ms/step - loss: 0.5430 - accuracy: 0.7645\n",
      "Epoch 146/300\n",
      "8/8 [==============================] - 0s 2ms/step - loss: 0.5462 - accuracy: 0.7727\n",
      "Epoch 147/300\n",
      "8/8 [==============================] - 0s 4ms/step - loss: 0.5459 - accuracy: 0.7479\n",
      "Epoch 148/300\n",
      "8/8 [==============================] - 0s 2ms/step - loss: 0.5253 - accuracy: 0.7851\n",
      "Epoch 149/300\n",
      "8/8 [==============================] - 0s 2ms/step - loss: 0.5184 - accuracy: 0.7975\n",
      "Epoch 150/300\n",
      "8/8 [==============================] - 0s 2ms/step - loss: 0.5181 - accuracy: 0.7603\n",
      "Epoch 151/300\n",
      "8/8 [==============================] - 0s 2ms/step - loss: 0.5013 - accuracy: 0.7851\n",
      "Epoch 152/300\n",
      "8/8 [==============================] - 0s 2ms/step - loss: 0.4941 - accuracy: 0.7893\n",
      "Epoch 153/300\n",
      "8/8 [==============================] - 0s 2ms/step - loss: 0.4864 - accuracy: 0.7893\n",
      "Epoch 154/300\n",
      "8/8 [==============================] - 0s 2ms/step - loss: 0.4835 - accuracy: 0.7934\n",
      "Epoch 155/300\n",
      "8/8 [==============================] - 0s 2ms/step - loss: 0.4831 - accuracy: 0.7893\n",
      "Epoch 156/300\n",
      "8/8 [==============================] - 0s 2ms/step - loss: 0.4716 - accuracy: 0.7934\n",
      "Epoch 157/300\n",
      "8/8 [==============================] - 0s 2ms/step - loss: 0.4786 - accuracy: 0.7727\n",
      "Epoch 158/300\n",
      "8/8 [==============================] - 0s 2ms/step - loss: 0.4800 - accuracy: 0.8017\n",
      "Epoch 159/300\n",
      "8/8 [==============================] - 0s 2ms/step - loss: 0.4633 - accuracy: 0.7975\n",
      "Epoch 160/300\n",
      "8/8 [==============================] - 0s 2ms/step - loss: 0.4566 - accuracy: 0.7934\n",
      "Epoch 161/300\n",
      "8/8 [==============================] - 0s 2ms/step - loss: 0.4584 - accuracy: 0.7975\n",
      "Epoch 162/300\n",
      "8/8 [==============================] - 0s 4ms/step - loss: 0.4504 - accuracy: 0.7975\n",
      "Epoch 163/300\n",
      "8/8 [==============================] - 0s 4ms/step - loss: 0.4569 - accuracy: 0.7975\n",
      "Epoch 164/300\n",
      "8/8 [==============================] - 0s 2ms/step - loss: 0.4405 - accuracy: 0.8017\n",
      "Epoch 165/300\n",
      "8/8 [==============================] - 0s 2ms/step - loss: 0.4470 - accuracy: 0.8182\n",
      "Epoch 166/300\n",
      "8/8 [==============================] - 0s 2ms/step - loss: 0.4492 - accuracy: 0.7975\n",
      "Epoch 167/300\n"
     ]
    },
    {
     "name": "stdout",
     "output_type": "stream",
     "text": [
      "8/8 [==============================] - 0s 2ms/step - loss: 0.4362 - accuracy: 0.8058\n",
      "Epoch 168/300\n",
      "8/8 [==============================] - 0s 2ms/step - loss: 0.4333 - accuracy: 0.7975\n",
      "Epoch 169/300\n",
      "8/8 [==============================] - 0s 2ms/step - loss: 0.4333 - accuracy: 0.8058\n",
      "Epoch 170/300\n",
      "8/8 [==============================] - 0s 2ms/step - loss: 0.4277 - accuracy: 0.8099\n",
      "Epoch 171/300\n",
      "8/8 [==============================] - 0s 2ms/step - loss: 0.4242 - accuracy: 0.8099\n",
      "Epoch 172/300\n",
      "8/8 [==============================] - 0s 3ms/step - loss: 0.4239 - accuracy: 0.8099\n",
      "Epoch 173/300\n",
      "8/8 [==============================] - 0s 2ms/step - loss: 0.4245 - accuracy: 0.8099\n",
      "Epoch 174/300\n",
      "8/8 [==============================] - 0s 2ms/step - loss: 0.4274 - accuracy: 0.8099\n",
      "Epoch 175/300\n",
      "8/8 [==============================] - 0s 2ms/step - loss: 0.4186 - accuracy: 0.8140\n",
      "Epoch 176/300\n",
      "8/8 [==============================] - 0s 2ms/step - loss: 0.4153 - accuracy: 0.8017\n",
      "Epoch 177/300\n",
      "8/8 [==============================] - 0s 2ms/step - loss: 0.4130 - accuracy: 0.8017\n",
      "Epoch 178/300\n",
      "8/8 [==============================] - 0s 4ms/step - loss: 0.4166 - accuracy: 0.8182\n",
      "Epoch 179/300\n",
      "8/8 [==============================] - 0s 5ms/step - loss: 0.4217 - accuracy: 0.8058\n",
      "Epoch 180/300\n",
      "8/8 [==============================] - 0s 5ms/step - loss: 0.4073 - accuracy: 0.8058\n",
      "Epoch 181/300\n",
      "8/8 [==============================] - 0s 6ms/step - loss: 0.4071 - accuracy: 0.8099\n",
      "Epoch 182/300\n",
      "8/8 [==============================] - 0s 4ms/step - loss: 0.4137 - accuracy: 0.8099\n",
      "Epoch 183/300\n",
      "8/8 [==============================] - 0s 4ms/step - loss: 0.4053 - accuracy: 0.8140\n",
      "Epoch 184/300\n",
      "8/8 [==============================] - 0s 3ms/step - loss: 0.4087 - accuracy: 0.8099\n",
      "Epoch 185/300\n",
      "8/8 [==============================] - 0s 2ms/step - loss: 0.4051 - accuracy: 0.8058\n",
      "Epoch 186/300\n",
      "8/8 [==============================] - 0s 2ms/step - loss: 0.4067 - accuracy: 0.8099\n",
      "Epoch 187/300\n",
      "8/8 [==============================] - 0s 2ms/step - loss: 0.4038 - accuracy: 0.8182\n",
      "Epoch 188/300\n",
      "8/8 [==============================] - 0s 2ms/step - loss: 0.4005 - accuracy: 0.8223\n",
      "Epoch 189/300\n",
      "8/8 [==============================] - 0s 2ms/step - loss: 0.4028 - accuracy: 0.8140\n",
      "Epoch 190/300\n",
      "8/8 [==============================] - 0s 3ms/step - loss: 0.3984 - accuracy: 0.7934\n",
      "Epoch 191/300\n",
      "8/8 [==============================] - 0s 1ms/step - loss: 0.4028 - accuracy: 0.8099\n",
      "Epoch 192/300\n",
      "8/8 [==============================] - 0s 3ms/step - loss: 0.4167 - accuracy: 0.8140\n",
      "Epoch 193/300\n",
      "8/8 [==============================] - 0s 3ms/step - loss: 0.4177 - accuracy: 0.8140\n",
      "Epoch 194/300\n",
      "8/8 [==============================] - 0s 1ms/step - loss: 0.4020 - accuracy: 0.8223\n",
      "Epoch 195/300\n",
      "8/8 [==============================] - 0s 2ms/step - loss: 0.4034 - accuracy: 0.8058\n",
      "Epoch 196/300\n",
      "8/8 [==============================] - 0s 3ms/step - loss: 0.3990 - accuracy: 0.8099\n",
      "Epoch 197/300\n",
      "8/8 [==============================] - 0s 968us/step - loss: 0.3936 - accuracy: 0.8182\n",
      "Epoch 198/300\n",
      "8/8 [==============================] - 0s 3ms/step - loss: 0.3928 - accuracy: 0.8099\n",
      "Epoch 199/300\n",
      "8/8 [==============================] - 0s 3ms/step - loss: 0.3894 - accuracy: 0.8140\n",
      "Epoch 200/300\n",
      "8/8 [==============================] - 0s 3ms/step - loss: 0.4031 - accuracy: 0.8099\n",
      "Epoch 201/300\n",
      "8/8 [==============================] - 0s 2ms/step - loss: 0.3937 - accuracy: 0.8347\n",
      "Epoch 202/300\n",
      "8/8 [==============================] - 0s 3ms/step - loss: 0.3987 - accuracy: 0.8223\n",
      "Epoch 203/300\n",
      "8/8 [==============================] - 0s 2ms/step - loss: 0.3932 - accuracy: 0.8140\n",
      "Epoch 204/300\n",
      "8/8 [==============================] - 0s 2ms/step - loss: 0.3900 - accuracy: 0.8099\n",
      "Epoch 205/300\n",
      "8/8 [==============================] - 0s 2ms/step - loss: 0.3893 - accuracy: 0.8182\n",
      "Epoch 206/300\n",
      "8/8 [==============================] - 0s 2ms/step - loss: 0.3877 - accuracy: 0.8264\n",
      "Epoch 207/300\n",
      "8/8 [==============================] - 0s 2ms/step - loss: 0.3907 - accuracy: 0.7975\n",
      "Epoch 208/300\n",
      "8/8 [==============================] - 0s 2ms/step - loss: 0.4003 - accuracy: 0.8182\n",
      "Epoch 209/300\n",
      "8/8 [==============================] - 0s 2ms/step - loss: 0.4302 - accuracy: 0.8017\n",
      "Epoch 210/300\n",
      "8/8 [==============================] - 0s 2ms/step - loss: 0.3977 - accuracy: 0.8223\n",
      "Epoch 211/300\n",
      "8/8 [==============================] - 0s 2ms/step - loss: 0.3833 - accuracy: 0.8182\n",
      "Epoch 212/300\n",
      "8/8 [==============================] - 0s 3ms/step - loss: 0.3952 - accuracy: 0.8182\n",
      "Epoch 213/300\n",
      "8/8 [==============================] - 0s 12ms/step - loss: 0.3832 - accuracy: 0.8182\n",
      "Epoch 214/300\n",
      "8/8 [==============================] - 0s 12ms/step - loss: 0.3804 - accuracy: 0.8182\n",
      "Epoch 215/300\n",
      "8/8 [==============================] - 0s 6ms/step - loss: 0.3894 - accuracy: 0.8140\n",
      "Epoch 216/300\n",
      "8/8 [==============================] - 0s 6ms/step - loss: 0.3806 - accuracy: 0.8182\n",
      "Epoch 217/300\n",
      "8/8 [==============================] - 0s 5ms/step - loss: 0.3958 - accuracy: 0.8182\n",
      "Epoch 218/300\n",
      "8/8 [==============================] - 0s 5ms/step - loss: 0.4109 - accuracy: 0.7934\n",
      "Epoch 219/300\n",
      "8/8 [==============================] - 0s 5ms/step - loss: 0.4243 - accuracy: 0.8099\n",
      "Epoch 220/300\n",
      "8/8 [==============================] - 0s 7ms/step - loss: 0.4025 - accuracy: 0.8058\n",
      "Epoch 221/300\n",
      "8/8 [==============================] - 0s 4ms/step - loss: 0.3808 - accuracy: 0.8223\n",
      "Epoch 222/300\n",
      "8/8 [==============================] - 0s 10ms/step - loss: 0.3784 - accuracy: 0.8306\n",
      "Epoch 223/300\n",
      "8/8 [==============================] - 0s 10ms/step - loss: 0.3899 - accuracy: 0.8099\n",
      "Epoch 224/300\n",
      "8/8 [==============================] - 0s 7ms/step - loss: 0.3944 - accuracy: 0.8182\n",
      "Epoch 225/300\n",
      "8/8 [==============================] - 0s 5ms/step - loss: 0.3908 - accuracy: 0.8140\n",
      "Epoch 226/300\n",
      "8/8 [==============================] - 0s 5ms/step - loss: 0.3770 - accuracy: 0.8140\n",
      "Epoch 227/300\n",
      "8/8 [==============================] - 0s 4ms/step - loss: 0.3773 - accuracy: 0.8099\n",
      "Epoch 228/300\n",
      "8/8 [==============================] - 0s 5ms/step - loss: 0.3761 - accuracy: 0.8140\n",
      "Epoch 229/300\n",
      "8/8 [==============================] - 0s 2ms/step - loss: 0.3745 - accuracy: 0.8140\n",
      "Epoch 230/300\n",
      "8/8 [==============================] - 0s 5ms/step - loss: 0.3840 - accuracy: 0.8223\n",
      "Epoch 231/300\n",
      "8/8 [==============================] - 0s 2ms/step - loss: 0.3807 - accuracy: 0.8347\n",
      "Epoch 232/300\n",
      "8/8 [==============================] - 0s 2ms/step - loss: 0.3938 - accuracy: 0.8140\n",
      "Epoch 233/300\n",
      "8/8 [==============================] - 0s 5ms/step - loss: 0.3786 - accuracy: 0.8264\n",
      "Epoch 234/300\n",
      "8/8 [==============================] - 0s 4ms/step - loss: 0.3882 - accuracy: 0.8223\n",
      "Epoch 235/300\n",
      "8/8 [==============================] - 0s 3ms/step - loss: 0.3823 - accuracy: 0.8182\n",
      "Epoch 236/300\n",
      "8/8 [==============================] - 0s 4ms/step - loss: 0.3767 - accuracy: 0.8140\n",
      "Epoch 237/300\n",
      "8/8 [==============================] - 0s 4ms/step - loss: 0.3742 - accuracy: 0.8182\n",
      "Epoch 238/300\n",
      "8/8 [==============================] - 0s 4ms/step - loss: 0.3769 - accuracy: 0.8264\n",
      "Epoch 239/300\n",
      "8/8 [==============================] - 0s 4ms/step - loss: 0.3828 - accuracy: 0.8347\n",
      "Epoch 240/300\n",
      "8/8 [==============================] - 0s 4ms/step - loss: 0.3812 - accuracy: 0.8264\n",
      "Epoch 241/300\n",
      "8/8 [==============================] - 0s 4ms/step - loss: 0.3788 - accuracy: 0.8388\n",
      "Epoch 242/300\n",
      "8/8 [==============================] - 0s 4ms/step - loss: 0.3746 - accuracy: 0.8264\n",
      "Epoch 243/300\n",
      "8/8 [==============================] - 0s 2ms/step - loss: 0.3725 - accuracy: 0.8306\n",
      "Epoch 244/300\n",
      "8/8 [==============================] - 0s 2ms/step - loss: 0.3805 - accuracy: 0.8140\n",
      "Epoch 245/300\n",
      "8/8 [==============================] - 0s 2ms/step - loss: 0.3686 - accuracy: 0.8264\n",
      "Epoch 246/300\n",
      "8/8 [==============================] - 0s 2ms/step - loss: 0.3743 - accuracy: 0.8182\n",
      "Epoch 247/300\n",
      "8/8 [==============================] - 0s 5ms/step - loss: 0.3762 - accuracy: 0.8099\n",
      "Epoch 248/300\n",
      "8/8 [==============================] - 0s 4ms/step - loss: 0.3729 - accuracy: 0.8306\n",
      "Epoch 249/300\n"
     ]
    },
    {
     "name": "stdout",
     "output_type": "stream",
     "text": [
      "8/8 [==============================] - 0s 4ms/step - loss: 0.3748 - accuracy: 0.8264\n",
      "Epoch 250/300\n",
      "8/8 [==============================] - 0s 4ms/step - loss: 0.3700 - accuracy: 0.8471\n",
      "Epoch 251/300\n",
      "8/8 [==============================] - 0s 4ms/step - loss: 0.3939 - accuracy: 0.8140\n",
      "Epoch 252/300\n",
      "8/8 [==============================] - 0s 3ms/step - loss: 0.3844 - accuracy: 0.8182\n",
      "Epoch 253/300\n",
      "8/8 [==============================] - 0s 4ms/step - loss: 0.3714 - accuracy: 0.8264\n",
      "Epoch 254/300\n",
      "8/8 [==============================] - 0s 2ms/step - loss: 0.3780 - accuracy: 0.8264\n",
      "Epoch 255/300\n",
      "8/8 [==============================] - 0s 6ms/step - loss: 0.3753 - accuracy: 0.8223\n",
      "Epoch 256/300\n",
      "8/8 [==============================] - 0s 3ms/step - loss: 0.3699 - accuracy: 0.8223\n",
      "Epoch 257/300\n",
      "8/8 [==============================] - 0s 2ms/step - loss: 0.3767 - accuracy: 0.8306\n",
      "Epoch 258/300\n",
      "8/8 [==============================] - 0s 4ms/step - loss: 0.3881 - accuracy: 0.8223\n",
      "Epoch 259/300\n",
      "8/8 [==============================] - 0s 4ms/step - loss: 0.3795 - accuracy: 0.8347\n",
      "Epoch 260/300\n",
      "8/8 [==============================] - 0s 4ms/step - loss: 0.3675 - accuracy: 0.8223\n",
      "Epoch 261/300\n",
      "8/8 [==============================] - 0s 6ms/step - loss: 0.3765 - accuracy: 0.8264\n",
      "Epoch 262/300\n",
      "8/8 [==============================] - 0s 4ms/step - loss: 0.3782 - accuracy: 0.8223\n",
      "Epoch 263/300\n",
      "8/8 [==============================] - 0s 3ms/step - loss: 0.3660 - accuracy: 0.8223\n",
      "Epoch 264/300\n",
      "8/8 [==============================] - 0s 4ms/step - loss: 0.3777 - accuracy: 0.8306\n",
      "Epoch 265/300\n",
      "8/8 [==============================] - 0s 4ms/step - loss: 0.3697 - accuracy: 0.8430\n",
      "Epoch 266/300\n",
      "8/8 [==============================] - 0s 2ms/step - loss: 0.3689 - accuracy: 0.8306\n",
      "Epoch 267/300\n",
      "8/8 [==============================] - 0s 2ms/step - loss: 0.3675 - accuracy: 0.8264\n",
      "Epoch 268/300\n",
      "8/8 [==============================] - 0s 3ms/step - loss: 0.3721 - accuracy: 0.8347\n",
      "Epoch 269/300\n",
      "8/8 [==============================] - 0s 2ms/step - loss: 0.3848 - accuracy: 0.8099\n",
      "Epoch 270/300\n",
      "8/8 [==============================] - 0s 4ms/step - loss: 0.3792 - accuracy: 0.8388\n",
      "Epoch 271/300\n",
      "8/8 [==============================] - 0s 3ms/step - loss: 0.3912 - accuracy: 0.8099\n",
      "Epoch 272/300\n",
      "8/8 [==============================] - 0s 2ms/step - loss: 0.3718 - accuracy: 0.8512\n",
      "Epoch 273/300\n",
      "8/8 [==============================] - 0s 2ms/step - loss: 0.3729 - accuracy: 0.8140\n",
      "Epoch 274/300\n",
      "8/8 [==============================] - 0s 2ms/step - loss: 0.3747 - accuracy: 0.8388\n",
      "Epoch 275/300\n",
      "8/8 [==============================] - 0s 2ms/step - loss: 0.3717 - accuracy: 0.8306\n",
      "Epoch 276/300\n",
      "8/8 [==============================] - 0s 2ms/step - loss: 0.3720 - accuracy: 0.8388\n",
      "Epoch 277/300\n",
      "8/8 [==============================] - 0s 4ms/step - loss: 0.3663 - accuracy: 0.8306\n",
      "Epoch 278/300\n",
      "8/8 [==============================] - 0s 4ms/step - loss: 0.3703 - accuracy: 0.8347\n",
      "Epoch 279/300\n",
      "8/8 [==============================] - 0s 4ms/step - loss: 0.3654 - accuracy: 0.8264\n",
      "Epoch 280/300\n",
      "8/8 [==============================] - 0s 4ms/step - loss: 0.3625 - accuracy: 0.8264\n",
      "Epoch 281/300\n",
      "8/8 [==============================] - 0s 4ms/step - loss: 0.3687 - accuracy: 0.8347\n",
      "Epoch 282/300\n",
      "8/8 [==============================] - 0s 4ms/step - loss: 0.3835 - accuracy: 0.8264\n",
      "Epoch 283/300\n",
      "8/8 [==============================] - 0s 4ms/step - loss: 0.3666 - accuracy: 0.8264\n",
      "Epoch 284/300\n",
      "8/8 [==============================] - 0s 2ms/step - loss: 0.3721 - accuracy: 0.8264\n",
      "Epoch 285/300\n",
      "8/8 [==============================] - 0s 2ms/step - loss: 0.3661 - accuracy: 0.8306\n",
      "Epoch 286/300\n",
      "8/8 [==============================] - 0s 2ms/step - loss: 0.3761 - accuracy: 0.8388\n",
      "Epoch 287/300\n",
      "8/8 [==============================] - 0s 2ms/step - loss: 0.4075 - accuracy: 0.8182\n",
      "Epoch 288/300\n",
      "8/8 [==============================] - 0s 4ms/step - loss: 0.4345 - accuracy: 0.8264\n",
      "Epoch 289/300\n",
      "8/8 [==============================] - 0s 4ms/step - loss: 0.3889 - accuracy: 0.8182\n",
      "Epoch 290/300\n",
      "8/8 [==============================] - 0s 4ms/step - loss: 0.3700 - accuracy: 0.8264\n",
      "Epoch 291/300\n",
      "8/8 [==============================] - 0s 5ms/step - loss: 0.3661 - accuracy: 0.8347\n",
      "Epoch 292/300\n",
      "8/8 [==============================] - 0s 5ms/step - loss: 0.3656 - accuracy: 0.8306\n",
      "Epoch 293/300\n",
      "8/8 [==============================] - 0s 5ms/step - loss: 0.3720 - accuracy: 0.8347\n",
      "Epoch 294/300\n",
      "8/8 [==============================] - 0s 3ms/step - loss: 0.3675 - accuracy: 0.8306\n",
      "Epoch 295/300\n",
      "8/8 [==============================] - 0s 4ms/step - loss: 0.3681 - accuracy: 0.8471\n",
      "Epoch 296/300\n",
      "8/8 [==============================] - 0s 3ms/step - loss: 0.3726 - accuracy: 0.8306\n",
      "Epoch 297/300\n",
      "8/8 [==============================] - 0s 3ms/step - loss: 0.3697 - accuracy: 0.8223\n",
      "Epoch 298/300\n",
      "8/8 [==============================] - 0s 4ms/step - loss: 0.3633 - accuracy: 0.8595\n",
      "Epoch 299/300\n",
      "8/8 [==============================] - 0s 3ms/step - loss: 0.3729 - accuracy: 0.8306\n",
      "Epoch 300/300\n",
      "8/8 [==============================] - 0s 238us/step - loss: 0.3638 - accuracy: 0.8512\n"
     ]
    },
    {
     "data": {
      "text/plain": [
       "<keras.callbacks.History at 0x1ac111728c0>"
      ]
     },
     "execution_count": 61,
     "metadata": {},
     "output_type": "execute_result"
    }
   ],
   "source": [
    "model.fit(X_train,Y_train,epochs=300)"
   ]
  },
  {
   "cell_type": "code",
   "execution_count": 62,
   "id": "9e32c4da",
   "metadata": {},
   "outputs": [
    {
     "name": "stdout",
     "output_type": "stream",
     "text": [
      "2/2 [==============================] - 0s 0s/step\n"
     ]
    }
   ],
   "source": [
    "Y_pred_nn = model.predict(X_test)\n"
   ]
  },
  {
   "cell_type": "code",
   "execution_count": 63,
   "id": "d70ed851",
   "metadata": {},
   "outputs": [
    {
     "data": {
      "text/plain": [
       "(61, 1)"
      ]
     },
     "execution_count": 63,
     "metadata": {},
     "output_type": "execute_result"
    }
   ],
   "source": [
    "Y_pred_nn.shape"
   ]
  },
  {
   "cell_type": "code",
   "execution_count": 64,
   "id": "0466424f",
   "metadata": {},
   "outputs": [],
   "source": [
    "rounded = [round(x[0]) for x in Y_pred_nn]\n",
    "\n",
    "Y_pred_nn = rounded"
   ]
  },
  {
   "cell_type": "code",
   "execution_count": 65,
   "id": "4af0e642",
   "metadata": {},
   "outputs": [
    {
     "name": "stdout",
     "output_type": "stream",
     "text": [
      "The accuracy score achieved using Neural Network is: 81.97 %\n"
     ]
    }
   ],
   "source": [
    "score_nn = round(accuracy_score(Y_pred_nn,Y_test)*100,2)\n",
    "\n",
    "print(\"The accuracy score achieved using Neural Network is: \"+str(score_nn)+\" %\")\n",
    "\n",
    "#Note: Accuracy of 85% can be achieved on the test set, by setting epochs=2000, and number of nodes = 11. "
   ]
  },
  {
   "cell_type": "code",
   "execution_count": 66,
   "id": "5056a3b2",
   "metadata": {},
   "outputs": [
    {
     "name": "stdout",
     "output_type": "stream",
     "text": [
      "The accuracy score achieved using Logistic Regression is: 85.25 %\n",
      "The accuracy score achieved using Naive Bayes is: 85.25 %\n",
      "The accuracy score achieved using Support Vector Machine is: 81.97 %\n",
      "The accuracy score achieved using K-Nearest Neighbors is: 67.21 %\n",
      "The accuracy score achieved using Decision Tree is: 81.97 %\n",
      "The accuracy score achieved using Random Forest is: 90.16 %\n",
      "The accuracy score achieved using XGBoost is: 83.61 %\n",
      "The accuracy score achieved using Neural Network is: 81.97 %\n"
     ]
    }
   ],
   "source": [
    "scores = [score_lr,score_nb,score_svm,score_knn,score_dt,score_rf,score_xgb,score_nn]\n",
    "algorithms = [\"Logistic Regression\",\"Naive Bayes\",\"Support Vector Machine\",\"K-Nearest Neighbors\",\"Decision Tree\",\"Random Forest\",\"XGBoost\",\"Neural Network\"]    \n",
    "\n",
    "for i in range(len(algorithms)):\n",
    "    print(\"The accuracy score achieved using \"+algorithms[i]+\" is: \"+str(scores[i])+\" %\")"
   ]
  },
  {
   "cell_type": "code",
   "execution_count": 68,
   "id": "0444bab0",
   "metadata": {},
   "outputs": [
    {
     "data": {
      "text/plain": [
       "<AxesSubplot:xlabel='Algorithms', ylabel='Accuracy score'>"
      ]
     },
     "execution_count": 68,
     "metadata": {},
     "output_type": "execute_result"
    },
    {
     "data": {
      "image/png": "[encoded data removed]",
      "text/plain": [
       "<Figure size 1500x800 with 1 Axes>"
      ]
     },
     "metadata": {},
     "output_type": "display_data"
    }
   ],
   "source": [
    "sns.set(rc={'figure.figsize':(15,8)})\n",
    "plt.xlabel(\"Algorithms\")\n",
    "plt.ylabel(\"Accuracy score\")\n",
    "\n",
    "sns.barplot(x=algorithms,y=scores)"
   ]
  },
  {
   "cell_type": "code",
   "execution_count": null,
   "id": "eb7f5d2c",
   "metadata": {},
   "outputs": [],
   "source": []
  },
  {
   "cell_type": "code",
   "execution_count": null,
   "id": "899822a7",
   "metadata": {},
   "outputs": [],
   "source": []
  },
  {
   "cell_type": "code",
   "execution_count": null,
   "id": "d4824cd8",
   "metadata": {},
   "outputs": [],
   "source": []
  },
  {
   "cell_type": "code",
   "execution_count": null,
   "id": "5ddc4a3f",
   "metadata": {},
   "outputs": [],
   "source": []
  },
  {
   "cell_type": "code",
   "execution_count": null,
   "id": "51496655",
   "metadata": {},
   "outputs": [],
   "source": []
  },
  {
   "cell_type": "code",
   "execution_count": null,
   "id": "6de44a93",
   "metadata": {},
   "outputs": [],
   "source": []
  }
 ],
 "metadata": {
  "kernelspec": {
   "display_name": "Python 3 (ipykernel)",
   "language": "python",
   "name": "python3"
  },
  "language_info": {
   "codemirror_mode": {
    "name": "ipython",
    "version": 3
   },
   "file_extension": ".py",
   "mimetype": "text/x-python",
   "name": "python",
   "nbconvert_exporter": "python",
   "pygments_lexer": "ipython3",
   "version": "3.10.6"
  }
 },
 "nbformat": 4,
 "nbformat_minor": 5
}
